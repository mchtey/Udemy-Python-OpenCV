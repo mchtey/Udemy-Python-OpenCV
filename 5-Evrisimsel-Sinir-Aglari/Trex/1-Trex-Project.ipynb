{
 "cells": [
  {
   "cell_type": "markdown",
   "id": "c99abfae-df5e-47d8-bfcc-f7f46009a756",
   "metadata": {},
   "source": [
    "# <font color=orange>**Evrisimsel Sinir Aglari**</font> <font color=gray>**(CNN)**</font>"
   ]
  },
  {
   "cell_type": "markdown",
   "id": "d9c13867-cc99-42fd-9112-0b6efc53f814",
   "metadata": {},
   "source": [
    "## <font color=gray>**Veri Toplama**</font> "
   ]
  },
  {
   "cell_type": "code",
   "execution_count": 71,
   "id": "8a72224c-8e1a-4f93-bb80-e5318eaf0817",
   "metadata": {},
   "outputs": [],
   "source": [
    "import keyboard # Klavye uzerindeki tuslara basarak veri toplamaya yarar \n",
    "import uuid # Ekrandan kayşt alabilmeyi saglar\n",
    "import time # Sure tutmaya yarar\n",
    "from PIL import Image # Python resim kutuphanesi\n",
    "from mss import mss # Ekran goruntusu alip .png olarak kaydetmeye yarar"
   ]
  },
  {
   "cell_type": "code",
   "execution_count": null,
   "id": "d446a7ec-5051-442b-8982-beca0172c6e0",
   "metadata": {},
   "outputs": [],
   "source": [
    "import keyboard\n",
    "import uuid\n",
    "import time\n",
    "from PIL import Image\n",
    "from mss import mss\n",
    "\n",
    "\"\"\"\n",
    "http://www.trex-game.skipser.com/\n",
    "\"\"\"\n",
    "\n",
    "mon = {\"top\":490, \"left\":720, \"width\":300, \"height\":140}\n",
    "sct = mss()\n",
    "\n",
    "i = 0\n",
    "\n",
    "def record_screen(record_id, key):\n",
    "    global i\n",
    "    \n",
    "    i += 1\n",
    "    print(\"{}: {}\".format(key, i))\n",
    "    img = sct.grab(mon)\n",
    "    im = Image.frombytes(\"RGB\", img.size, img.rgb)\n",
    "    im.save(\"./img/{}_{}_{}.png\".format(key, record_id, i))\n",
    "    \n",
    "is_exit = False\n",
    "\n",
    "def exit():\n",
    "    global is_exit\n",
    "    is_exit = True\n",
    "    \n",
    "keyboard.add_hotkey(\"esc\", exit)\n",
    "\n",
    "record_id = uuid.uuid4()\n",
    "\n",
    "while True:\n",
    "    \n",
    "    if is_exit: break\n",
    "\n",
    "    try:\n",
    "        if keyboard.is_pressed(keyboard.KEY_UP):\n",
    "            record_screen(record_id, \"up\")\n",
    "            time.sleep(0.1)\n",
    "        elif keyboard.is_pressed(keyboard.KEY_DOWN):\n",
    "            record_screen(record_id, \"down\")\n",
    "            time.sleep(0.1)\n",
    "        elif keyboard.is_pressed(\"right\"):\n",
    "            record_screen(record_id, \"right\")\n",
    "            time.sleep(0.1)\n",
    "    except RuntimeError: continue"
   ]
  },
  {
   "cell_type": "markdown",
   "id": "f3b41364-5c6b-4fcc-a0b0-c1614694b12c",
   "metadata": {},
   "source": [
    "## <font color=gray>**Modelin Egitilmesi**</font> "
   ]
  },
  {
   "cell_type": "code",
   "execution_count": 1,
   "id": "37ea1acd-db6e-4553-b4af-0490aa755282",
   "metadata": {},
   "outputs": [],
   "source": [
    "import glob\n",
    "import os\n",
    "import numpy as np\n",
    "from keras.models import Sequential\n",
    "from keras.layers import Dense, Dropout, Flatten\n",
    "from keras.layers import Conv2D, MaxPooling2D\n",
    "from PIL import Image\n",
    "from sklearn.preprocessing import LabelEncoder\n",
    "from sklearn.preprocessing import OneHotEncoder\n",
    "from sklearn.model_selection import train_test_split\n",
    "import seaborn as sns\n",
    "\n",
    "import warnings\n",
    "warnings.filterwarnings('ignore')"
   ]
  },
  {
   "cell_type": "code",
   "execution_count": 2,
   "id": "fcbe03bb-2e5f-463d-b4ff-1c6aa62bdc38",
   "metadata": {},
   "outputs": [],
   "source": [
    "imgs = glob.glob('./img/*.png') \n",
    "# *.png -> ismi ne olursa olsun tum png uzantili resimleri imgs'e kaydet demek.\n",
    "\n",
    "width = 125\n",
    "height = 50\n",
    "\n",
    "X = []\n",
    "Y = []\n",
    "\n",
    "for img in imgs:\n",
    "    fileName = os.path.basename(img)\n",
    "    label = fileName.split('_')[0] \n",
    "    im = np.array(Image.open(img).convert('L').resize((width,height)))\n",
    "    im = im / 255\n",
    "    X.append(im)\n",
    "    Y.append(label)\n",
    "    \n",
    "    \n",
    "X = np.array(X)\n",
    "X = X.reshape(X.shape[0], width, height, 1) #(resim sayisi, genislik,yukseklik,channel yani siyah beyaz yazma)"
   ]
  },
  {
   "cell_type": "code",
   "execution_count": 3,
   "id": "4993580e-8ebb-4d72-be41-4e56a83d18bc",
   "metadata": {},
   "outputs": [
    {
     "data": {
      "image/png": "[encoded data removed]",
      "text/plain": [
       "<Figure size 640x480 with 1 Axes>"
      ]
     },
     "metadata": {},
     "output_type": "display_data"
    }
   ],
   "source": [
    "sns.countplot(Y);"
   ]
  },
  {
   "cell_type": "code",
   "execution_count": 4,
   "id": "f658fa01-b5a2-4f6b-a9b7-8528a034464a",
   "metadata": {},
   "outputs": [],
   "source": [
    "# label encoder - one hot encoder\n",
    "\n",
    "def onehot_labels(values):\n",
    "    label_encoder = LabelEncoder()\n",
    "    integer_encoded = label_encoder.fit_transform(values)    \n",
    "    onehot_encoder = OneHotEncoder(sparse=False)\n",
    "    integer_encoded = integer_encoded.reshape(len(integer_encoded),1)\n",
    "    onehot_encoded = onehot_encoder.fit_transform(integer_encoded)\n",
    "    return onehot_encoded"
   ]
  },
  {
   "cell_type": "code",
   "execution_count": 5,
   "id": "67984fb1-53ea-498c-9bdb-f00352294bda",
   "metadata": {},
   "outputs": [],
   "source": [
    "Y = onehot_labels(Y)"
   ]
  },
  {
   "cell_type": "code",
   "execution_count": 6,
   "id": "ffb0b983-8530-4ea8-a8d0-c3097698a67e",
   "metadata": {},
   "outputs": [],
   "source": [
    "train_X, test_X, train_y, test_y = train_test_split(X, Y, \n",
    "                                                    test_size=.25, \n",
    "                                                    random_state=2)"
   ]
  },
  {
   "cell_type": "code",
   "execution_count": 7,
   "id": "185bfc93-b4cf-459a-b335-18b4f6f2b1d7",
   "metadata": {},
   "outputs": [
    {
     "name": "stdout",
     "output_type": "stream",
     "text": [
      "Epoch 1/35\n",
      "2/2 [==============================] - 4s 958ms/step - loss: 3.5911 - accuracy: 0.4333\n",
      "Epoch 2/35\n",
      "2/2 [==============================] - 2s 942ms/step - loss: 3.3843 - accuracy: 0.4083\n",
      "Epoch 3/35\n",
      "2/2 [==============================] - 2s 979ms/step - loss: 1.2984 - accuracy: 0.4750\n",
      "Epoch 4/35\n",
      "2/2 [==============================] - 2s 964ms/step - loss: 0.9329 - accuracy: 0.5667\n",
      "Epoch 5/35\n",
      "2/2 [==============================] - 2s 1s/step - loss: 0.7255 - accuracy: 0.6750\n",
      "Epoch 6/35\n",
      "2/2 [==============================] - 2s 1s/step - loss: 0.6595 - accuracy: 0.8083\n",
      "Epoch 7/35\n",
      "2/2 [==============================] - 2s 1s/step - loss: 0.5725 - accuracy: 0.7833\n",
      "Epoch 8/35\n",
      "2/2 [==============================] - 2s 965ms/step - loss: 0.5196 - accuracy: 0.8417\n",
      "Epoch 9/35\n",
      "2/2 [==============================] - 2s 1s/step - loss: 0.4650 - accuracy: 0.8583\n",
      "Epoch 10/35\n",
      "2/2 [==============================] - 2s 933ms/step - loss: 0.3996 - accuracy: 0.8667\n",
      "Epoch 11/35\n",
      "2/2 [==============================] - 2s 967ms/step - loss: 0.3549 - accuracy: 0.8750\n",
      "Epoch 12/35\n",
      "2/2 [==============================] - 2s 949ms/step - loss: 0.3362 - accuracy: 0.8667\n",
      "Epoch 13/35\n",
      "2/2 [==============================] - 2s 936ms/step - loss: 0.3029 - accuracy: 0.8500\n",
      "Epoch 14/35\n",
      "2/2 [==============================] - 2s 945ms/step - loss: 0.2666 - accuracy: 0.9000\n",
      "Epoch 15/35\n",
      "2/2 [==============================] - 2s 945ms/step - loss: 0.2301 - accuracy: 0.9250\n",
      "Epoch 16/35\n",
      "2/2 [==============================] - 2s 944ms/step - loss: 0.2280 - accuracy: 0.8667\n",
      "Epoch 17/35\n",
      "2/2 [==============================] - 2s 984ms/step - loss: 0.2232 - accuracy: 0.9083\n",
      "Epoch 18/35\n",
      "2/2 [==============================] - 2s 997ms/step - loss: 0.1864 - accuracy: 0.9167\n",
      "Epoch 19/35\n",
      "2/2 [==============================] - 2s 945ms/step - loss: 0.2064 - accuracy: 0.8917\n",
      "Epoch 20/35\n",
      "2/2 [==============================] - 2s 1s/step - loss: 0.1982 - accuracy: 0.9083\n",
      "Epoch 21/35\n",
      "2/2 [==============================] - 2s 945ms/step - loss: 0.2020 - accuracy: 0.8833\n",
      "Epoch 22/35\n",
      "2/2 [==============================] - 2s 1s/step - loss: 0.1772 - accuracy: 0.8833\n",
      "Epoch 23/35\n",
      "2/2 [==============================] - 2s 990ms/step - loss: 0.1622 - accuracy: 0.9083\n",
      "Epoch 24/35\n",
      "2/2 [==============================] - 2s 965ms/step - loss: 0.1530 - accuracy: 0.9083\n",
      "Epoch 25/35\n",
      "2/2 [==============================] - 2s 1s/step - loss: 0.1657 - accuracy: 0.9167\n",
      "Epoch 26/35\n",
      "2/2 [==============================] - 2s 911ms/step - loss: 0.1532 - accuracy: 0.9250\n",
      "Epoch 27/35\n",
      "2/2 [==============================] - 2s 927ms/step - loss: 0.1530 - accuracy: 0.9083\n",
      "Epoch 28/35\n",
      "2/2 [==============================] - 2s 935ms/step - loss: 0.1373 - accuracy: 0.9167\n",
      "Epoch 29/35\n",
      "2/2 [==============================] - 2s 963ms/step - loss: 0.1356 - accuracy: 0.9333\n",
      "Epoch 30/35\n",
      "2/2 [==============================] - 2s 945ms/step - loss: 0.1433 - accuracy: 0.9250\n",
      "Epoch 31/35\n",
      "2/2 [==============================] - 2s 969ms/step - loss: 0.1386 - accuracy: 0.9250\n",
      "Epoch 32/35\n",
      "2/2 [==============================] - 2s 965ms/step - loss: 0.1311 - accuracy: 0.9250\n",
      "Epoch 33/35\n",
      "2/2 [==============================] - 2s 934ms/step - loss: 0.1312 - accuracy: 0.9500\n",
      "Epoch 34/35\n",
      "2/2 [==============================] - 2s 958ms/step - loss: 0.1233 - accuracy: 0.9167\n",
      "Epoch 35/35\n",
      "2/2 [==============================] - 2s 937ms/step - loss: 0.1243 - accuracy: 0.9333\n",
      "4/4 [==============================] - 1s 90ms/step - loss: 0.1148 - accuracy: 0.9333\n",
      "Egitim Dogrulugu: % 93.33333373069763\n",
      "2/2 [==============================] - 0s 41ms/step - loss: 0.0922 - accuracy: 0.9500\n",
      "Test Dogrulugu: % 94.9999988079071\n"
     ]
    }
   ],
   "source": [
    "# CNN Model\n",
    "\n",
    "model = Sequential()\n",
    "model.add(Conv2D(32, kernel_size=(3,3), activation='relu', input_shape = (width,height,1)))\n",
    "model.add(Conv2D(64, kernel_size=(3,3), activation='relu'))\n",
    "model.add(MaxPooling2D(pool_size=(2,2)))\n",
    "model.add(Dropout(0.25))\n",
    "model.add(Flatten())\n",
    "model.add(Dense(128,activation='relu'))\n",
    "model.add(Dropout(0.4))\n",
    "model.add(Dense(3, activation='softmax'))\n",
    "\n",
    "'''if os.path.exists('./trex_weight.h5'):\n",
    "    model.load_weights('trex_weight.h5')\n",
    "    print('Weights Yuklendi')'''\n",
    "\n",
    "model.compile(loss = 'categorical_crossentropy', optimizer = 'Adam', metrics = ['accuracy'])\n",
    "model.fit(train_X,train_y, epochs=35, batch_size = 64)\n",
    "\n",
    "score_train = model.evaluate(train_X,train_y)\n",
    "print('Egitim Dogrulugu: %', score_train[1]*100)\n",
    "\n",
    "score_test = model.evaluate(test_X,test_y)\n",
    "print('Test Dogrulugu: %', score_test[1]*100)"
   ]
  },
  {
   "cell_type": "code",
   "execution_count": 8,
   "id": "28f903e4-4132-4c61-bd95-85131ffd1915",
   "metadata": {},
   "outputs": [],
   "source": [
    "# Modeli kaydetmek istersek:\n",
    "\n",
    "open('model.json','w').write(model.to_json())\n",
    "model.save_weights('trex_weight.h5')"
   ]
  },
  {
   "cell_type": "markdown",
   "id": "28851a02-fd56-417e-9e93-64e6c5655a0b",
   "metadata": {},
   "source": [
    "## <font color=gray>**Modelin Test Edilmesi**</font> "
   ]
  },
  {
   "cell_type": "code",
   "execution_count": 9,
   "id": "aba30dbb-e43b-496e-b970-ed2f1e970615",
   "metadata": {},
   "outputs": [],
   "source": [
    "from keras.models import model_from_json\n",
    "import numpy as np\n",
    "from PIL import Image\n",
    "import keyboard\n",
    "import time\n",
    "from mss import mss"
   ]
  },
  {
   "cell_type": "code",
   "execution_count": 10,
   "id": "9b59cb75-6748-4200-ae0d-d8b074c9eadc",
   "metadata": {},
   "outputs": [],
   "source": [
    "# Trex ekraninin pikselleri:\n",
    "mon = {\"top\":490, \"left\":720, \"width\":300, \"height\":140}\n",
    "sct = mss()\n",
    "\n",
    "width = 125\n",
    "height = 50"
   ]
  },
  {
   "cell_type": "code",
   "execution_count": 12,
   "id": "6a7b2584-01fe-43a8-9335-410831657845",
   "metadata": {},
   "outputs": [],
   "source": [
    "# Modelin Yuklenmesi:\n",
    "\n",
    "model = model_from_json(open(\"model.json\",\"r\").read())\n",
    "# Modeli ice aktardik ama ici bos \n",
    "model.load_weights(\"trex_weight.h5\")"
   ]
  },
  {
   "cell_type": "code",
   "execution_count": 13,
   "id": "bc4f55ab-1868-4e3f-bf05-d3b1bcedef8d",
   "metadata": {},
   "outputs": [],
   "source": [
    "'''\n",
    "Etiketler\n",
    "\n",
    "down = 0\n",
    "right = 1\n",
    "up = 2\n",
    "'''\n",
    "\n",
    "labels = [\"Down\", \"Right\", \"Up\"]"
   ]
  },
  {
   "cell_type": "code",
   "execution_count": null,
   "id": "af090f29-7c23-4efb-a96b-2727d7d8ae8c",
   "metadata": {
    "tags": []
   },
   "outputs": [],
   "source": [
    "framerate_time = time.time()\n",
    "counter = 0\n",
    "i = 0\n",
    "delay = 0.4 #bir tusun basildiktan sonraki bekleme suresi\n",
    "key_down_pressed = False\n",
    "\n",
    "while True:\n",
    "    #ekrandan bir resim alip donusturma islemi\n",
    "    img = sct.grab(mon)\n",
    "    im = Image.frombytes(\"RGB\", img.size, img.rgb)\n",
    "    # Yeniden boyutlama:\n",
    "    im2 = np.array(im.convert(\"L\").resize((width, height)))\n",
    "    im2 = im2 / 255\n",
    "    \n",
    "    X =np.array([im2])\n",
    "    X = X.reshape(X.shape[0], width, height, 1)\n",
    "    r = model.predict(X)\n",
    "    \n",
    "    result = np.argmax(r) #argmax icerigin en buyuk olaninin index'ini dondurur\n",
    "    \n",
    "    if result == 0: \n",
    "        keyboard.press(keyboard.KEY_DOWN) # Asagi butonuna bas\n",
    "        key_down_pressed = True # Asagi butonuna bastim demek\n",
    "        \n",
    "    elif result == 2:\n",
    "        \n",
    "        if key_down_pressed:\n",
    "            keyboard.release(keyboard.KEY_DOWN)\n",
    "        time.sleep(delay)    \n",
    "        keyboard.press(keyboard.KEY_UP)\n",
    "        \n",
    "        if  i<1500: #Oyun 1500.u frame'e kadar normal akiyor. sonra hizlaniyor.\n",
    "            time.sleep(0.3)\n",
    "            \n",
    "        elif 1500 < i and i < 5000:\n",
    "            time.sleep(0.2)\n",
    "        else:\n",
    "            time.sleep(0.17)\n",
    "        #havadaki durumdan asagi gecmek icin:\n",
    "        keyboard.press(keyboard.KEY_DOWN) # Asagi tusuna bas\n",
    "        keyboard.release(keyboard.KEY_DOWN) # Asagi tusuna basmayi birak\n",
    "   \n",
    "    counter += 1\n",
    "    \n",
    "    if (time.time() - framerate_time) > 1:\n",
    "        \n",
    "        counter = 0\n",
    "        framerate_time = time.time()\n",
    "        if i <= 1500:\n",
    "            delay -= 0.003\n",
    "        else:\n",
    "            delay -= 0.005\n",
    "        if delay < 0:\n",
    "            delay = 0\n",
    "            \n",
    "            \n",
    "        print(\"---------------------\")\n",
    "        print(\"Down: {} \\nRight:{} \\nUp: {} \\n\".format(r[0][0],r[0][1],r[0][2]))\n",
    "        i += 1"
   ]
  }
 ],
 "metadata": {
  "kernelspec": {
   "display_name": "Python 3 (ipykernel)",
   "language": "python",
   "name": "python3"
  },
  "language_info": {
   "codemirror_mode": {
    "name": "ipython",
    "version": 3
   },
   "file_extension": ".py",
   "mimetype": "text/x-python",
   "name": "python",
   "nbconvert_exporter": "python",
   "pygments_lexer": "ipython3",
   "version": "3.9.15"
  }
 },
 "nbformat": 4,
 "nbformat_minor": 5
}
