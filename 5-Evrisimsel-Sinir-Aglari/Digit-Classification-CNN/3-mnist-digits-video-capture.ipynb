{
 "cells": [
  {
   "cell_type": "markdown",
   "id": "21d1a60c-5a1d-49a5-877c-a65c05d1c325",
   "metadata": {},
   "source": [
    "# <font color=orange>**Evrisimsel Sinir Aglari**</font> <font color=gray>**(CNN)**</font>"
   ]
  },
  {
   "cell_type": "markdown",
   "id": "94c21695-cffc-4b62-81c8-a6cc0f27c03e",
   "metadata": {},
   "source": [
    "## <font color=orange>**Gercek Zamanli Rakam Siniflandirma**</font> <font color=gray>**MNIST**</font>"
   ]
  },
  {
   "cell_type": "code",
   "execution_count": 10,
   "id": "288fb28f-adbe-4e8a-8309-894720da9c2c",
   "metadata": {},
   "outputs": [],
   "source": [
    "import cv2\n",
    "from keras.models import Sequential, load_model\n",
    "import numpy as np"
   ]
  },
  {
   "cell_type": "code",
   "execution_count": 11,
   "id": "a5f4d706-ecee-4c34-9698-6faaa5b0c94f",
   "metadata": {},
   "outputs": [
    {
     "data": {
      "text/plain": [
       "\"pickle_in = open('model_trained_new.p','rb')\\nmodel = pickle.load(pickle_in)\""
      ]
     },
     "execution_count": 11,
     "metadata": {},
     "output_type": "execute_result"
    }
   ],
   "source": [
    "'''pickle_in = open('model_trained_new.p','rb')\n",
    "model = pickle.load(pickle_in)'''"
   ]
  },
  {
   "cell_type": "code",
   "execution_count": null,
   "id": "8658ae31-b6b9-429b-8e79-877f282b27bf",
   "metadata": {
    "tags": []
   },
   "outputs": [],
   "source": [
    "def preProcess(img):\n",
    "    img = cv2.cvtColor(img,cv2.COLOR_BGR2GRAY)\n",
    "    img = cv2.equalizeHist(img)\n",
    "    img = img / 255.0\n",
    "    return img\n",
    "\n",
    "cap = cv2.VideoCapture(0)\n",
    "cap.set(3,480)\n",
    "cap.set(4,480)\n",
    "\n",
    "model = load_model(\"modelWeights.h5\")\n",
    "\n",
    "while True:\n",
    "    success, frame = cap.read()\n",
    "    img = np.asarray(frame)\n",
    "    img = cv2.resize(img,(32,32))\n",
    "    img = preProcess(img)\n",
    "    \n",
    "    img = img.reshape(1,32,32,1)\n",
    "    \n",
    "    # Predict \n",
    "    predictions = model.predict(img)\n",
    "    classIndex=np.argmax(predictions)\n",
    "    \n",
    "    probVal = np.amax(predictions)\n",
    "    print(classIndex, probVal)\n",
    "    \n",
    "    if probVal > 0.7:\n",
    "        cv2.putText(frame, str(classIndex) + ' ' + str(probVal), (50,50), cv2.FONT_HERSHEY_SIMPLEX, 1,(0,255,0),1)\n",
    "    \n",
    "    cv2.imshow('Rakam Siniflandirma',frame)\n",
    "    \n",
    "    if cv2.waitKey(1) & 0xFF == ord('q'): break\n",
    "    \n",
    "    \n",
    "cap.release()\n",
    "cv2.destroyAllWindows()"
   ]
  }
 ],
 "metadata": {
  "kernelspec": {
   "display_name": "Python 3 (ipykernel)",
   "language": "python",
   "name": "python3"
  },
  "language_info": {
   "codemirror_mode": {
    "name": "ipython",
    "version": 3
   },
   "file_extension": ".py",
   "mimetype": "text/x-python",
   "name": "python",
   "nbconvert_exporter": "python",
   "pygments_lexer": "ipython3",
   "version": "3.9.15"
  }
 },
 "nbformat": 4,
 "nbformat_minor": 5
}
