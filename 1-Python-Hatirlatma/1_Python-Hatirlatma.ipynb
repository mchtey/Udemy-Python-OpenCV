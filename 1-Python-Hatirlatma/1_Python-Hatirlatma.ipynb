{
 "cells": [
  {
   "cell_type": "markdown",
   "id": "dcf7510b-3e60-4876-b87e-3e1e354f91ab",
   "metadata": {},
   "source": [
    "# <font color=gold>**Python**</font> <font color=gray>**(Hatirlatma)**</font>"
   ]
  },
  {
   "cell_type": "markdown",
   "id": "ea17cc8b-bb91-4362-a0a1-6f08facf5da2",
   "metadata": {},
   "source": [
    "### <font color=orange>**Degiskenler**</font>"
   ]
  },
  {
   "cell_type": "code",
   "execution_count": 1,
   "id": "ac6eb48f-0b27-40e9-ae68-944b51d5a2e3",
   "metadata": {},
   "outputs": [
    {
     "name": "stdout",
     "output_type": "stream",
     "text": [
      "10\n",
      "12.3\n"
     ]
    }
   ],
   "source": [
    "tamsayi_degisken = 10\n",
    "ondalikli_sayi = 12.3\n",
    "print(tamsayi_degisken)\n",
    "print(ondalikli_sayi)"
   ]
  },
  {
   "cell_type": "markdown",
   "id": "d0c5bf10-189a-4e08-9e51-c22a51bf9256",
   "metadata": {},
   "source": [
    "#### <font color=gray>**Dort Islem Ozellikleri**</font>"
   ]
  },
  {
   "cell_type": "code",
   "execution_count": 2,
   "id": "c3d6e014-4465-42fe-aae9-5b0cae72547e",
   "metadata": {},
   "outputs": [],
   "source": [
    "pi_sayisi = 3.14\n",
    "kat_sayi = 2\n",
    "\n",
    "toplam = pi_sayisi + 1\n",
    "fark = pi_sayisi - 1\n",
    "carpma = pi_sayisi * kat_sayi\n",
    "bolme = pi_sayisi / kat_sayi"
   ]
  },
  {
   "cell_type": "markdown",
   "id": "fa92278c-1b29-4c61-bb1f-c45c948f24d5",
   "metadata": {},
   "source": [
    "#### <font color=gray>**Print**</font>"
   ]
  },
  {
   "cell_type": "code",
   "execution_count": 3,
   "id": "da4bd5b7-e7a9-4f70-9e71-0934f17f35b7",
   "metadata": {},
   "outputs": [
    {
     "name": "stdout",
     "output_type": "stream",
     "text": [
      "Toplam :  4.140000000000001\n",
      "Toplam: 4.140000000000001 ve Fark: 2.14\n",
      "Carpma: 6.3, Bolme: 1.5700\n"
     ]
    }
   ],
   "source": [
    "print('Toplam : ',toplam)\n",
    "print('Toplam: {} ve Fark: {}'.format(toplam,fark))\n",
    "print('Carpma: %.1f, Bolme: %.4f' % (carpma,bolme))"
   ]
  },
  {
   "cell_type": "markdown",
   "id": "dc4d0bab-a59c-4907-bdbe-f1828a429924",
   "metadata": {},
   "source": [
    "#### <font color=gray>**Degiskenler Arasi Donusum**</font>"
   ]
  },
  {
   "cell_type": "code",
   "execution_count": 4,
   "id": "deb58131-ea36-443e-8378-7043f4297509",
   "metadata": {},
   "outputs": [
    {
     "name": "stdout",
     "output_type": "stream",
     "text": [
      "6\n",
      "10.0\n"
     ]
    }
   ],
   "source": [
    "carpma_int = int(carpma)\n",
    "print(carpma_int)\n",
    "\n",
    "tamsayi_float = float(tamsayi_degisken)\n",
    "print(tamsayi_float)"
   ]
  },
  {
   "cell_type": "markdown",
   "id": "bac96371-3769-4a8d-87b5-aad185bcd18c",
   "metadata": {},
   "source": [
    "#### <font color=gray>**Stringler**</font>"
   ]
  },
  {
   "cell_type": "code",
   "execution_count": 5,
   "id": "006a881a-90da-4352-8e78-e4dfb95058bc",
   "metadata": {},
   "outputs": [
    {
     "name": "stdout",
     "output_type": "stream",
     "text": [
      "merhaba dunya\n"
     ]
    }
   ],
   "source": [
    "string = 'merhaba dunya'\n",
    "print(string)"
   ]
  },
  {
   "cell_type": "code",
   "execution_count": 6,
   "id": "04077a02-9afc-4326-899a-ed18d6b2db5a",
   "metadata": {},
   "outputs": [
    {
     "name": "stdout",
     "output_type": "stream",
     "text": [
      "veri\\img.png\n"
     ]
    }
   ],
   "source": [
    "resim_yolu = 'veri' + '\\\\' + 'img' + '.png'\n",
    "print(resim_yolu)"
   ]
  },
  {
   "cell_type": "markdown",
   "id": "f0208fc7-41e9-44b3-b4e6-0f70dcd88203",
   "metadata": {},
   "source": [
    "### <font color=orange>**Liste**</font>"
   ]
  },
  {
   "cell_type": "code",
   "execution_count": 8,
   "id": "fd924111-9c7d-4204-8b46-e257475cff3e",
   "metadata": {
    "tags": []
   },
   "outputs": [
    {
     "name": "stdout",
     "output_type": "stream",
     "text": [
      "<class 'list'>\n"
     ]
    }
   ],
   "source": [
    "'''\n",
    "- Bilesik veri turudur ve cok yonludur.\n",
    "- [1 , 'a', 1.0] Farkli veri tiplerini barindirabilir.\n",
    "'''\n",
    "\n",
    "liste = [1,2,3,4,5,6]\n",
    "print(type(liste))"
   ]
  },
  {
   "cell_type": "code",
   "execution_count": 20,
   "id": "ca02546c-b1c2-4f34-94c0-6a5886e323c0",
   "metadata": {},
   "outputs": [
    {
     "name": "stdout",
     "output_type": "stream",
     "text": [
      "Pzt\n",
      "----\n",
      "Pzr\n",
      "Pzr\n",
      "----------------------\n",
      "['Sal', 'Car', 'Per']\n"
     ]
    }
   ],
   "source": [
    "# hafta isimli listenin ilk elemanini yazdirma\n",
    "hafta = ['Pzt', 'Sal','Car','Per','Cum','Cmt','Pzr']\n",
    "print(hafta[0])\n",
    "print('--'*2)\n",
    "\n",
    "# hafta isimli listenin son elemanini yazdirma\n",
    "print(hafta[-1]) #ya da \n",
    "print(hafta[len(hafta)-1])\n",
    "print('--'*11)\n",
    "#hafta isimli listeden Sal, Car ve Per yazdirma\n",
    "print(hafta[1:4])"
   ]
  },
  {
   "cell_type": "code",
   "execution_count": 24,
   "id": "75a5d886-eb3f-4d59-b16e-a8971d8226fb",
   "metadata": {},
   "outputs": [
    {
     "name": "stdout",
     "output_type": "stream",
     "text": [
      "[1, 2, 3, 4, 5, 6, 7]\n"
     ]
    }
   ],
   "source": [
    "# Eleman Ekleme\n",
    "\n",
    "sayi_listesi = [1,2,3,4,5,6]\n",
    "# Sonuna eleman eklemek \n",
    "sayi_listesi.append(7)\n",
    "print(sayi_listesi)"
   ]
  },
  {
   "cell_type": "code",
   "execution_count": 25,
   "id": "f0486f02-fe6d-4256-a8e6-d3007755b8ba",
   "metadata": {},
   "outputs": [
    {
     "name": "stdout",
     "output_type": "stream",
     "text": [
      "[1, 2, 3, 5, 6, 7]\n"
     ]
    }
   ],
   "source": [
    "# sayi_listesinden 4 elemanini cikarma\n",
    "sayi_listesi.remove(4)\n",
    "print(sayi_listesi)"
   ]
  },
  {
   "cell_type": "code",
   "execution_count": 26,
   "id": "70a08339-7ab5-4c23-b7eb-a77da7c3a630",
   "metadata": {},
   "outputs": [
    {
     "name": "stdout",
     "output_type": "stream",
     "text": [
      "[7, 6, 5, 3, 2, 1]\n"
     ]
    }
   ],
   "source": [
    "# Listeyi ters cevirme\n",
    "\n",
    "sayi_listesi.reverse()\n",
    "print(sayi_listesi)"
   ]
  },
  {
   "cell_type": "code",
   "execution_count": 33,
   "id": "f218dd95-f989-4a77-a177-7cd27436c745",
   "metadata": {},
   "outputs": [
    {
     "name": "stdout",
     "output_type": "stream",
     "text": [
      "[1, 2, 3, 5, 48, 64]\n",
      "--------------------\n",
      "[64, 48, 5, 3, 2, 1]\n"
     ]
    }
   ],
   "source": [
    "# Listeyi siralama\n",
    "\n",
    "sayi_listesi = [1,3,2,5,64,48]\n",
    "sayi_listesi.sort() #default olarak kucukten buyuge siralar\n",
    "print(sayi_listesi)\n",
    "print('--'*10)\n",
    "sayi_listesi.sort(reverse=True)\n",
    "print(sayi_listesi) # buyukten kucuge siralama"
   ]
  },
  {
   "cell_type": "markdown",
   "id": "8e5bb7f5-9956-4492-bccd-b40edcc5dc65",
   "metadata": {},
   "source": [
    "### <font color=orange>**Tuple**</font>"
   ]
  },
  {
   "cell_type": "code",
   "execution_count": 36,
   "id": "355d8ee4-4653-4f66-99d1-0fa355874692",
   "metadata": {},
   "outputs": [
    {
     "name": "stdout",
     "output_type": "stream",
     "text": [
      "1\n",
      "--------------------\n",
      "(3, 3, 4, 5, 6)\n"
     ]
    }
   ],
   "source": [
    "'''\n",
    "- Degistirilemez ve sirali bir veri tipidir.\n",
    "- (1,2,3)\n",
    "'''\n",
    "\n",
    "tuple_veritipi = (1,2,3,3,4,5,6)\n",
    "print(tuple_veritipi[0])\n",
    "print('--'*10)\n",
    "# 2. indexten sonraki elemanlari yazdir.\n",
    "print(tuple_veritipi[2:])"
   ]
  },
  {
   "cell_type": "code",
   "execution_count": 38,
   "id": "d9bd2825-e51a-409b-a3a1-66df4f5d6eb4",
   "metadata": {},
   "outputs": [
    {
     "name": "stdout",
     "output_type": "stream",
     "text": [
      "2\n"
     ]
    }
   ],
   "source": [
    "# Count eleman\n",
    "print(tuple_veritipi.count(3))"
   ]
  },
  {
   "cell_type": "code",
   "execution_count": 39,
   "id": "1919d95b-52d2-49ea-83f9-3f645ceae031",
   "metadata": {},
   "outputs": [
    {
     "name": "stdout",
     "output_type": "stream",
     "text": [
      "1 2 3\n"
     ]
    }
   ],
   "source": [
    "tuple_xyz = (1,2,3)\n",
    "#Ayristirma istersek:\n",
    "x, y, z = tuple_xyz\n",
    "print(x,y,z)"
   ]
  },
  {
   "cell_type": "markdown",
   "id": "966331ac-03a5-47f0-bcd4-7b4d40fd7e26",
   "metadata": {
    "tags": []
   },
   "source": [
    "### <font color=orange>**Deque**</font>"
   ]
  },
  {
   "cell_type": "code",
   "execution_count": null,
   "id": "7fda6c44-fd3d-4a9e-b485-adbc7c3393f8",
   "metadata": {},
   "outputs": [],
   "source": []
  },
  {
   "cell_type": "code",
   "execution_count": 48,
   "id": "3db0f8c1-02cb-446b-997f-b74825fef6a9",
   "metadata": {},
   "outputs": [
    {
     "name": "stdout",
     "output_type": "stream",
     "text": [
      "deque([1], maxlen=3)\n",
      "deque([1, 2], maxlen=3)\n",
      "deque([1, 2, 3], maxlen=3)\n",
      "deque([2, 3, 4], maxlen=3)\n"
     ]
    }
   ],
   "source": [
    "'''\n",
    "List objelerinin uç noktaları ile ilgilenen bir yapıdır.\n",
    "'''\n",
    "\n",
    "from collections import deque\n",
    "dq = deque(maxlen = 3)\n",
    "\n",
    "dq.append(1) # sonuna 1 ekle [1]\n",
    "print(dq)\n",
    "\n",
    "dq.append(2) # sonuna 1 ekle [1,2]\n",
    "print(dq)\n",
    "\n",
    "dq.append(3) # sonuna 1 ekle [1,2,3]\n",
    "print(dq)\n",
    "\n",
    "dq.append(4) # sonuna 1 ekle [2,3,4]\n",
    "print(dq)"
   ]
  },
  {
   "cell_type": "code",
   "execution_count": 45,
   "id": "4f898b5c-3183-47ff-a1fb-ffad25ef7ba2",
   "metadata": {
    "collapsed": true,
    "jupyter": {
     "outputs_hidden": true
    },
    "tags": []
   },
   "outputs": [
    {
     "data": {
      "text/plain": [
       "'\\nmax boyut 3 old icin dorduncuyu ekler ama birinciyi siler'"
      ]
     },
     "execution_count": 45,
     "metadata": {},
     "output_type": "execute_result"
    }
   ],
   "source": [
    "'''\n",
    "max boyut 3 old icin dorduncuyu ekler ama birinciyi siler'''"
   ]
  },
  {
   "cell_type": "code",
   "execution_count": 47,
   "id": "7280d41d-c604-4ce1-ae47-8a311e84de79",
   "metadata": {},
   "outputs": [
    {
     "name": "stdout",
     "output_type": "stream",
     "text": [
      "deque([1], maxlen=3)\n",
      "deque([1, 2], maxlen=3)\n",
      "deque([3, 1, 2], maxlen=3)\n"
     ]
    }
   ],
   "source": [
    "from collections import deque\n",
    "dq = deque(maxlen = 3)\n",
    "\n",
    "dq.append(1) # basina 1 ekle [1]\n",
    "print(dq)\n",
    "\n",
    "dq.append(2) # basina 1 ekle[1,2]\n",
    "print(dq)\n",
    "\n",
    "dq.appendleft(3) # basina 1 ekle [3,1,2]\n",
    "print(dq)\n"
   ]
  },
  {
   "cell_type": "markdown",
   "id": "7db869ee-2578-4e8f-9cdb-d8540de733b3",
   "metadata": {
    "tags": []
   },
   "source": [
    "### <font color=orange>**Dictionary**</font>"
   ]
  },
  {
   "cell_type": "code",
   "execution_count": 51,
   "id": "c5c594d2-fb29-4c8a-82ce-2ac0d84b5a24",
   "metadata": {},
   "outputs": [
    {
     "name": "stdout",
     "output_type": "stream",
     "text": [
      "34\n",
      "------------------------------\n",
      "dict_keys(['istanbul', 'izmir', 'Konya'])\n"
     ]
    }
   ],
   "source": [
    "'''\n",
    "- Bir cesit karma tablo turudur.\n",
    "- Anahtar ve deger ciftlerinden olusur\n",
    "- {'anahtar':deger}\n",
    "'''\n",
    "\n",
    "dictionary = {'istanbul':34,\n",
    "              'izmir':35,\n",
    "              'Konya':42}\n",
    "\n",
    "# Istanbul anahtarinin degeri\n",
    "print(dictionary['istanbul'])\n",
    "\n",
    "print('--'*15)\n",
    "\n",
    "# Anahtarlara bakma\n",
    "print(dictionary.keys())"
   ]
  },
  {
   "cell_type": "markdown",
   "id": "030bc982-7fbd-4017-9bd8-ded2ac540abd",
   "metadata": {
    "tags": []
   },
   "source": [
    "### <font color=orange>**Kosullu Ifadeler: if-else**</font>"
   ]
  },
  {
   "cell_type": "code",
   "execution_count": 52,
   "id": "a3ea7361-5a12-44d5-9271-c62456514f2a",
   "metadata": {},
   "outputs": [
    {
     "name": "stdout",
     "output_type": "stream",
     "text": [
      "sayi1 kucuktur sayi2\n"
     ]
    }
   ],
   "source": [
    "'''\n",
    "Bir bool ifadesine gore dogru ya da yanlis olarak\n",
    "degerlendirilmesine bagli olarak farkli hesaplamalar \n",
    "veya eylemler gerceklestiren bir ifadedir.\n",
    "'''\n",
    "\n",
    "# Buyuk - Kucuk sayi karsilastirmasi:\n",
    "sayi1 = 12.0\n",
    "sayi2 = 20.0\n",
    "\n",
    "if sayi1 < sayi2:\n",
    "    print('sayi1 kucuktur sayi2')\n",
    "\n",
    "elif sayi>sayi2:\n",
    "    print('sayi1 buyuktur sayi2')\n",
    "else:\n",
    "    print('sayi1 esittir sayi2')"
   ]
  },
  {
   "cell_type": "code",
   "execution_count": 53,
   "id": "ee79c2d1-d277-4ea3-b19e-3a3569e72d34",
   "metadata": {},
   "outputs": [
    {
     "name": "stdout",
     "output_type": "stream",
     "text": [
      "32 degeri listenin icerisinde degildir\n"
     ]
    }
   ],
   "source": [
    "liste = [1,2,3,4,5]\n",
    "deger = 32\n",
    "\n",
    "if deger in liste:\n",
    "    print('{} degeri listenin icerisindedir'.format(deger))\n",
    "else:\n",
    "    print('{} degeri listenin icerisinde degildir'.format(deger))"
   ]
  },
  {
   "cell_type": "code",
   "execution_count": 54,
   "id": "c8315932-0888-483f-b345-6a54c0cca1a4",
   "metadata": {},
   "outputs": [
    {
     "name": "stdout",
     "output_type": "stream",
     "text": [
      "Evet\n"
     ]
    }
   ],
   "source": [
    "dictionary = {'Turkiye':'Ankara',\n",
    "              'Ingiltere': 'Londra',\n",
    "              'Ispanya': 'Madrid'}\n",
    "\n",
    "keys = dictionary.keys()\n",
    "deger = 'Turkiye'\n",
    "\n",
    "if deger in keys:\n",
    "    print('Evet')\n",
    "else:\n",
    "    print('Hayir')"
   ]
  },
  {
   "cell_type": "code",
   "execution_count": 55,
   "id": "52f0c0b2-9b78-4221-8556-e68af50adc36",
   "metadata": {},
   "outputs": [
    {
     "name": "stdout",
     "output_type": "stream",
     "text": [
      "Dogru\n"
     ]
    }
   ],
   "source": [
    "bool1 = True\n",
    "bool2 = False\n",
    "\n",
    "if bool1:\n",
    "    print('Dogru')\n",
    "else:\n",
    "    print('Yanlis')"
   ]
  },
  {
   "cell_type": "code",
   "execution_count": 56,
   "id": "bf2c7d63-e37f-423b-9369-1273eeae884c",
   "metadata": {},
   "outputs": [
    {
     "name": "stdout",
     "output_type": "stream",
     "text": [
      "Dogru\n"
     ]
    }
   ],
   "source": [
    "if bool1 or bool2: print('Dogru')\n",
    "else: print('Yanlis')"
   ]
  },
  {
   "cell_type": "code",
   "execution_count": 57,
   "id": "206f523e-1204-404d-987b-cff43625654d",
   "metadata": {},
   "outputs": [
    {
     "name": "stdout",
     "output_type": "stream",
     "text": [
      "Yanlis\n"
     ]
    }
   ],
   "source": [
    "if bool1 and bool2: print('Dogru')\n",
    "else: print('Yanlis')"
   ]
  },
  {
   "cell_type": "markdown",
   "id": "7348de31-6381-4042-ae7e-bd4f5a64aa75",
   "metadata": {
    "tags": []
   },
   "source": [
    "### <font color=orange>**Donguler: for-while**</font>"
   ]
  },
  {
   "cell_type": "markdown",
   "id": "045a4c64-a054-4b83-9343-310e5cdcb2fd",
   "metadata": {},
   "source": [
    "#### <font color=gray>**For Dongusu**</font>"
   ]
  },
  {
   "cell_type": "code",
   "execution_count": 68,
   "id": "8a4448db-0a34-47dc-9ee4-5c197cf33ce9",
   "metadata": {},
   "outputs": [
    {
     "name": "stdout",
     "output_type": "stream",
     "text": [
      "1\n",
      "2\n",
      "3\n",
      "4\n"
     ]
    }
   ],
   "source": [
    "'''\n",
    "- Bir dizi uzerinde yineleme yapmak icin kullanilan yapilardir.\n",
    "- Diziler: liste, tuple, string, sozluk, numpy, pandas veri tipleri\n",
    "'''\n",
    "\n",
    "for i in [1,2,3,4]:\n",
    "    print(i)"
   ]
  },
  {
   "cell_type": "code",
   "execution_count": 64,
   "id": "2a8d098d-b706-427f-8485-0e17ea1a6a96",
   "metadata": {},
   "outputs": [
    {
     "name": "stdout",
     "output_type": "stream",
     "text": [
      "1\n",
      "2\n",
      "3\n",
      "4\n",
      "5\n",
      "6\n",
      "7\n",
      "8\n",
      "9\n",
      "10\n"
     ]
    }
   ],
   "source": [
    "for i in range(1,11):\n",
    "    print(i)"
   ]
  },
  {
   "cell_type": "code",
   "execution_count": 65,
   "id": "07eea8c6-4a15-4450-8c89-5bb511636edc",
   "metadata": {},
   "outputs": [
    {
     "name": "stdout",
     "output_type": "stream",
     "text": [
      "101\n"
     ]
    }
   ],
   "source": [
    "liste = [1,4,5,6,8,3,3,4,67]\n",
    "print(sum(liste))"
   ]
  },
  {
   "cell_type": "code",
   "execution_count": 66,
   "id": "11a9c596-2c67-436d-ba1a-2b457fb247e3",
   "metadata": {},
   "outputs": [
    {
     "name": "stdout",
     "output_type": "stream",
     "text": [
      "67\n"
     ]
    }
   ],
   "source": [
    "for a in liste:\n",
    "    toplam +=a\n",
    "print(a)"
   ]
  },
  {
   "cell_type": "code",
   "execution_count": 67,
   "id": "08c0c424-d73c-41b2-8288-49e4cc08d6c7",
   "metadata": {},
   "outputs": [
    {
     "name": "stdout",
     "output_type": "stream",
     "text": [
      "1 2 3\n",
      "3 4 5\n"
     ]
    }
   ],
   "source": [
    "tup1 = ((1,2,3),(3,4,5))\n",
    "for x,y,z in tup1:\n",
    "    print(x,y,z)"
   ]
  },
  {
   "cell_type": "markdown",
   "id": "2d528b33-f237-4da9-9f67-de7108a655bf",
   "metadata": {},
   "source": [
    "#### <font color=gray>**While Dongusu**</font>"
   ]
  },
  {
   "cell_type": "code",
   "execution_count": 69,
   "id": "42017b98-bb7a-495e-81da-cac08bb9311c",
   "metadata": {},
   "outputs": [
    {
     "name": "stdout",
     "output_type": "stream",
     "text": [
      "0\n",
      "1\n",
      "2\n",
      "3\n"
     ]
    }
   ],
   "source": [
    "i = 0\n",
    "while i<4:\n",
    "    print(i)\n",
    "    i+=1"
   ]
  },
  {
   "cell_type": "code",
   "execution_count": 70,
   "id": "a5f1f3d8-4bb1-4096-95a0-a6320dee35fc",
   "metadata": {},
   "outputs": [
    {
     "name": "stdout",
     "output_type": "stream",
     "text": [
      "101\n"
     ]
    }
   ],
   "source": [
    "liste = [1,4,5,6,8,3,3,4,67]\n",
    "sinir = len(liste)\n",
    "\n",
    "her = 0\n",
    "hesapla = 0\n",
    "while her < sinir:\n",
    "    hesapla += liste[her]\n",
    "    her +=1\n",
    "print(hesapla)"
   ]
  },
  {
   "cell_type": "markdown",
   "id": "264c7a52-ca2d-4e93-a445-f967c62e2bbe",
   "metadata": {
    "tags": []
   },
   "source": [
    "### <font color=orange>**Fonksiyonlar**</font>"
   ]
  },
  {
   "cell_type": "code",
   "execution_count": 1,
   "id": "5029fcf8-57f6-40dc-b503-fe66a2caf59b",
   "metadata": {},
   "outputs": [
    {
     "name": "stdout",
     "output_type": "stream",
     "text": [
      "28.26\n"
     ]
    }
   ],
   "source": [
    "# Kullanici tarafindan tanimlanan fonksiyonlar\n",
    "r = 3\n",
    "pi = 3.14\n",
    "daire_alani = pi*(r**2)\n",
    "print(daire_alani)"
   ]
  },
  {
   "cell_type": "code",
   "execution_count": 4,
   "id": "532bc33d-b125-4edf-a632-d03eb551930d",
   "metadata": {},
   "outputs": [],
   "source": [
    "def daireAlani(r):\n",
    "    pi = 3.14\n",
    "    return pi*(r**2)"
   ]
  },
  {
   "cell_type": "code",
   "execution_count": 5,
   "id": "7e7fafc0-dcb4-4286-96cf-c8f90d5fd7fd",
   "metadata": {},
   "outputs": [
    {
     "data": {
      "text/plain": [
       "28.26"
      ]
     },
     "execution_count": 5,
     "metadata": {},
     "output_type": "execute_result"
    }
   ],
   "source": [
    "daireAlani(3)"
   ]
  },
  {
   "cell_type": "code",
   "execution_count": 6,
   "id": "9272d854-f472-42e7-b3c8-567761a7e107",
   "metadata": {},
   "outputs": [],
   "source": [
    "def daireCevresi(r,pi=3.14):\n",
    "    return 2*pi*r"
   ]
  },
  {
   "cell_type": "code",
   "execution_count": 7,
   "id": "396ab37e-f50e-49a1-b210-3930fcbe68f0",
   "metadata": {},
   "outputs": [
    {
     "data": {
      "text/plain": [
       "18.84"
      ]
     },
     "execution_count": 7,
     "metadata": {},
     "output_type": "execute_result"
    }
   ],
   "source": [
    "daireCevresi(3)"
   ]
  },
  {
   "cell_type": "code",
   "execution_count": 9,
   "id": "4125054c-34bb-4982-8fe7-2bd2b9bdb5b1",
   "metadata": {},
   "outputs": [
    {
     "ename": "NameError",
     "evalue": "name 'katsayi' is not defined",
     "output_type": "error",
     "traceback": [
      "\u001b[1;31m---------------------------------------------------------------------------\u001b[0m",
      "\u001b[1;31mNameError\u001b[0m                                 Traceback (most recent call last)",
      "\u001b[1;32m~\\AppData\\Local\\Temp\\ipykernel_6416\\2006523508.py\u001b[0m in \u001b[0;36m<module>\u001b[1;34m\u001b[0m\n\u001b[0;32m      5\u001b[0m     \u001b[0mprint\u001b[0m\u001b[1;33m(\u001b[0m\u001b[0mkatsayi\u001b[0m\u001b[1;33m*\u001b[0m\u001b[0mkatsayi\u001b[0m\u001b[1;33m)\u001b[0m\u001b[1;33m\u001b[0m\u001b[1;33m\u001b[0m\u001b[0m\n\u001b[0;32m      6\u001b[0m \u001b[1;33m\u001b[0m\u001b[0m\n\u001b[1;32m----> 7\u001b[1;33m \u001b[0mprint\u001b[0m\u001b[1;33m(\u001b[0m\u001b[0mkatsayi\u001b[0m\u001b[1;33m)\u001b[0m\u001b[1;33m\u001b[0m\u001b[1;33m\u001b[0m\u001b[0m\n\u001b[0m",
      "\u001b[1;31mNameError\u001b[0m: name 'katsayi' is not defined"
     ]
    }
   ],
   "source": [
    "#global kullanimi\n",
    "\n",
    "def katsayiCarpimi():\n",
    "    katsayi = 5\n",
    "    print(katsayi*katsayi)\n",
    "    \n",
    "print(katsayi)"
   ]
  },
  {
   "cell_type": "code",
   "execution_count": 10,
   "id": "7902adec-3e65-4cb0-806e-dad6edf4e90c",
   "metadata": {},
   "outputs": [],
   "source": [
    "# katsayi degiskeni lokal old. icin disarida kullanilamiyor. "
   ]
  },
  {
   "cell_type": "code",
   "execution_count": 11,
   "id": "40e84f40-26bc-4996-acff-eb7887bf6e5b",
   "metadata": {},
   "outputs": [
    {
     "name": "stdout",
     "output_type": "stream",
     "text": [
      "25\n",
      "5\n"
     ]
    }
   ],
   "source": [
    "katsayi = 5\n",
    "def katsayiCarpimi():\n",
    "    global katsayi\n",
    "    print(katsayi*katsayi)\n",
    "    \n",
    "katsayiCarpimi()\n",
    "print(katsayi)"
   ]
  },
  {
   "cell_type": "code",
   "execution_count": 13,
   "id": "7a8822cc-c47a-4e1f-b969-926cceb7e784",
   "metadata": {},
   "outputs": [],
   "source": [
    "# Bos fonksiyonlar:\n",
    "def bos():\n",
    "    pass\n",
    "\n",
    "bos()"
   ]
  },
  {
   "cell_type": "code",
   "execution_count": 14,
   "id": "1874b19f-691b-418a-bbec-af7e0fe08cd9",
   "metadata": {},
   "outputs": [
    {
     "name": "stdout",
     "output_type": "stream",
     "text": [
      "4\n",
      "[1, 2, 3, 4]\n",
      "[1, 2, 3, 4]\n",
      "4\n",
      "1\n"
     ]
    }
   ],
   "source": [
    "#Built in Fonks.\n",
    "liste = [1,2,3,4]\n",
    "print(len(liste))\n",
    "print(str(liste))\n",
    "liste2 = liste.copy()\n",
    "print(liste2)\n",
    "print(max(liste))\n",
    "print(min(liste2))"
   ]
  },
  {
   "cell_type": "code",
   "execution_count": 15,
   "id": "4b627447-d0a1-43fa-88e5-0e7b1a3b2112",
   "metadata": {},
   "outputs": [
    {
     "name": "stdout",
     "output_type": "stream",
     "text": [
      "24\n"
     ]
    }
   ],
   "source": [
    "''' \n",
    " Lambda fonksiyonlar (ileri seviye)\n",
    " Kucuk ve anonim bir islemdir.\n",
    " Yalnizca bir ifadeye sahip olabilir.\n",
    "'''\n",
    "\n",
    "def carpma(x,y,z):\n",
    "    return x*y*z\n",
    "sonuc = carpma(2,3,4)\n",
    "print(sonuc)"
   ]
  },
  {
   "cell_type": "code",
   "execution_count": 16,
   "id": "bf701f9e-13fd-460f-b36d-c54c4cedaf3a",
   "metadata": {},
   "outputs": [
    {
     "name": "stdout",
     "output_type": "stream",
     "text": [
      "24\n"
     ]
    }
   ],
   "source": [
    "fonksiyon_lambda = lambda x,y,z : x*y*z\n",
    "sonuc2 = fonksiyon_lambda(2,3,4)\n",
    "print(sonuc2)"
   ]
  },
  {
   "cell_type": "markdown",
   "id": "47d4890a-b6a9-4c0e-a8ae-fb0a5b46a35d",
   "metadata": {
    "tags": []
   },
   "source": [
    "### <font color=orange>**Yield**</font>"
   ]
  },
  {
   "cell_type": "code",
   "execution_count": 21,
   "id": "793cfe0a-0e53-4f89-919f-1df95af73324",
   "metadata": {
    "tags": []
   },
   "outputs": [
    {
     "name": "stdout",
     "output_type": "stream",
     "text": [
      "1\n",
      "2\n",
      "3\n"
     ]
    }
   ],
   "source": [
    "'''\n",
    "- iterasyon: Yineleme \n",
    "- generator: Degerleri bellekte saklamaz yeri gelince aninda uretirler.\n",
    "- yield: Fonk. eger return olarak generator dondurecek ise \n",
    "  bunu return yerine yield anahtar sozcugu ile yapar.\n",
    "'''\n",
    "# generator:\n",
    "generator = (x for x in range(1,4))\n",
    "for i in generator:\n",
    "    print(i)"
   ]
  },
  {
   "cell_type": "code",
   "execution_count": 22,
   "id": "7d86c436-f523-4aac-bb57-44079d462e8d",
   "metadata": {},
   "outputs": [
    {
     "name": "stdout",
     "output_type": "stream",
     "text": [
      "<generator object createGenerator at 0x000001069B231970>\n",
      "1\n",
      "2\n",
      "3\n"
     ]
    }
   ],
   "source": [
    "# yield:\n",
    "def createGenerator():\n",
    "    liste = range(1,4)\n",
    "    for i in liste:\n",
    "        yield i\n",
    "\n",
    "generator = createGenerator()\n",
    "print(generator)\n",
    "\n",
    "for i in generator:\n",
    "    print(i)"
   ]
  },
  {
   "cell_type": "markdown",
   "id": "07fc6853-5cd6-4eaa-8a89-c6708a7a00b6",
   "metadata": {
    "tags": []
   },
   "source": [
    "### <font color=orange>**Numpy**</font>"
   ]
  },
  {
   "cell_type": "code",
   "execution_count": 1,
   "id": "f6deedd2-7486-4a96-8ce7-718195d7b5bc",
   "metadata": {},
   "outputs": [],
   "source": [
    "import numpy as np"
   ]
  },
  {
   "cell_type": "code",
   "execution_count": 24,
   "id": "f5ddcc0a-6257-4769-8925-f96c688d30b3",
   "metadata": {},
   "outputs": [
    {
     "name": "stdout",
     "output_type": "stream",
     "text": [
      "[ 1  2  3  4  5  6  7  8  9 10 11 12 13 14 15]\n"
     ]
    }
   ],
   "source": [
    "# 1*15 boyutunda bir dizi olusturalim:\n",
    "\n",
    "dizi = np.array([1,2,3,4,5,6,7,8,9,10,11,12,13,14,15])\n",
    "print(dizi)"
   ]
  },
  {
   "cell_type": "code",
   "execution_count": 26,
   "id": "24f02613-a810-429c-b974-c87a6db7a834",
   "metadata": {},
   "outputs": [
    {
     "data": {
      "text/plain": [
       "(15,)"
      ]
     },
     "execution_count": 26,
     "metadata": {},
     "output_type": "execute_result"
    }
   ],
   "source": [
    "#Sekline bakma: Array'in boyutu\n",
    "dizi.shape"
   ]
  },
  {
   "cell_type": "code",
   "execution_count": 28,
   "id": "24e0eeef-2e24-49cf-b93c-a41c1ac2ef97",
   "metadata": {},
   "outputs": [
    {
     "name": "stdout",
     "output_type": "stream",
     "text": [
      "Sekil:  (3, 5)\n",
      "Boyut:  2\n",
      "Veri Tipi:  int32\n",
      "Boyu:  15\n",
      "Type:  <class 'numpy.ndarray'>\n"
     ]
    }
   ],
   "source": [
    "dizi2 = dizi.reshape(3,5)\n",
    "print('Sekil: ',dizi2.shape)\n",
    "print('Boyut: ',dizi2.ndim)\n",
    "print('Veri Tipi: ',dizi2.dtype.name)\n",
    "print('Boyu: ',dizi2.size)\n",
    "print('Type: ',type(dizi2))"
   ]
  },
  {
   "cell_type": "code",
   "execution_count": 29,
   "id": "83976bb2-44ed-4ba3-8a04-bff9bda7d6ae",
   "metadata": {},
   "outputs": [
    {
     "name": "stdout",
     "output_type": "stream",
     "text": [
      "[[1 2 3 4]\n",
      " [5 6 7 8]\n",
      " [9 8 7 6]]\n"
     ]
    }
   ],
   "source": [
    "# 2 boyutlu array:\n",
    "\n",
    "dizi2D = np.array([[1,2,3,4],[5,6,7,8],[9,8,7,6]])\n",
    "print(dizi2D)"
   ]
  },
  {
   "cell_type": "code",
   "execution_count": 30,
   "id": "fc835804-e948-4ff0-803d-f2a7639edd85",
   "metadata": {},
   "outputs": [
    {
     "name": "stdout",
     "output_type": "stream",
     "text": [
      "[[0. 0. 0. 0.]\n",
      " [0. 0. 0. 0.]\n",
      " [0. 0. 0. 0.]]\n"
     ]
    }
   ],
   "source": [
    "# 0'lardan olusan bir array:\n",
    "\n",
    "sifir_dizi = np.zeros((3,4))\n",
    "print(sifir_dizi)"
   ]
  },
  {
   "cell_type": "code",
   "execution_count": 32,
   "id": "dcc63ff8-5797-458d-a29a-9cbf3187878c",
   "metadata": {},
   "outputs": [
    {
     "name": "stdout",
     "output_type": "stream",
     "text": [
      "[[1. 1. 1. 1.]\n",
      " [1. 1. 1. 1.]\n",
      " [1. 1. 1. 1.]]\n"
     ]
    }
   ],
   "source": [
    "# 1'lerden olusan bir array:\n",
    "\n",
    "bir_dizi = np.ones((3,4))\n",
    "print(bir_dizi)"
   ]
  },
  {
   "cell_type": "code",
   "execution_count": 2,
   "id": "8db5e88f-ffa1-41aa-a051-63c925fc7eb0",
   "metadata": {},
   "outputs": [
    {
     "name": "stdout",
     "output_type": "stream",
     "text": [
      "[[1.01855798e-312 1.08221785e-312 1.01855798e-312 9.54898106e-313]\n",
      " [1.10343781e-312 1.01855798e-312 1.23075756e-312 1.14587773e-312]\n",
      " [1.12465777e-312 9.76118064e-313 1.20953760e-312 1.90979621e-312]]\n"
     ]
    }
   ],
   "source": [
    "# Bos array : \n",
    "\n",
    "bos_dizi = np.empty((3,4))\n",
    "print(bos_dizi)"
   ]
  },
  {
   "cell_type": "code",
   "execution_count": 4,
   "id": "ab563d86-d437-49f3-8bab-e781408450d7",
   "metadata": {},
   "outputs": [
    {
     "name": "stdout",
     "output_type": "stream",
     "text": [
      "[10 15 20 25 30 35 40 45]\n"
     ]
    }
   ],
   "source": [
    "# arange(x,y,basamak):\n",
    "# x'ten baslayip y'ye kadar (y dahil degil) basamak kadar artislarla yazma:\n",
    "\n",
    "dizi_aralik = np.arange(10,50,5)\n",
    "print(dizi_aralik)"
   ]
  },
  {
   "cell_type": "code",
   "execution_count": 6,
   "id": "257f05c8-1ab6-4c94-854d-3b7767d0666a",
   "metadata": {},
   "outputs": [
    {
     "name": "stdout",
     "output_type": "stream",
     "text": [
      "[10.  12.5 15.  17.5 20. ]\n"
     ]
    }
   ],
   "source": [
    "# linspace(x,y,basamak)\n",
    "# x'ten baslayip y'ye kadar (y dahil) olacak sekilde bölumleme yapar:\n",
    "\n",
    "dizi_lins = np.linspace(10,20,5)\n",
    "print(dizi_lins)"
   ]
  },
  {
   "cell_type": "code",
   "execution_count": 8,
   "id": "4e0eced7-c9c6-43bf-94f8-92898bc4d4df",
   "metadata": {},
   "outputs": [
    {
     "name": "stdout",
     "output_type": "stream",
     "text": [
      "[[1. 2.]\n",
      " [3. 4.]]\n"
     ]
    }
   ],
   "source": [
    "# Float array olusturma:\n",
    "\n",
    "float_array = np.float32([[1,2],[3,4]])\n",
    "print(float_array)"
   ]
  },
  {
   "cell_type": "code",
   "execution_count": 10,
   "id": "81598efc-ee19-4f82-9cc8-96fccace1f95",
   "metadata": {},
   "outputs": [
    {
     "name": "stdout",
     "output_type": "stream",
     "text": [
      "[5 7 9]\n",
      "[-3 -3 -3]\n",
      "[1 4 9]\n"
     ]
    }
   ],
   "source": [
    "# Matematiksel islemler\n",
    "\n",
    "a = np.array([1,2,3])\n",
    "b = np.array([4,5,6])\n",
    "\n",
    "print(a+b)\n",
    "print(a-b)\n",
    "print(a**2)\n"
   ]
  },
  {
   "cell_type": "code",
   "execution_count": 11,
   "id": "d4fe53f6-6883-4b3b-97ac-3719ef44d366",
   "metadata": {},
   "outputs": [
    {
     "name": "stdout",
     "output_type": "stream",
     "text": [
      "6\n"
     ]
    }
   ],
   "source": [
    "# Dizi elemanlarini toplama: \n",
    "print(sum(a))"
   ]
  },
  {
   "cell_type": "code",
   "execution_count": 14,
   "id": "68cee888-2eb2-4752-8af9-b2f6b951f75a",
   "metadata": {},
   "outputs": [
    {
     "name": "stdout",
     "output_type": "stream",
     "text": [
      "Max Deger:  3\n",
      "Min Deger:  1\n",
      "Mean Deger:  2.0\n",
      "Median Deger:  2.0\n"
     ]
    }
   ],
   "source": [
    "# max,min,mean,median deger bulma:\n",
    "print('Max Deger: ',np.max(a))\n",
    "print('Min Deger: ',np.min(a))\n",
    "print('Mean Deger: ',np.mean(a))\n",
    "print('Median Deger: ',np.median(a))"
   ]
  },
  {
   "cell_type": "code",
   "execution_count": 15,
   "id": "198edeff-33cb-46d4-8092-c57fcb2fa828",
   "metadata": {},
   "outputs": [
    {
     "name": "stdout",
     "output_type": "stream",
     "text": [
      "[[0.89890354 0.49443447 0.93851988]\n",
      " [0.75607411 0.8880065  0.35690085]\n",
      " [0.47746321 0.90735985 0.82201516]]\n"
     ]
    }
   ],
   "source": [
    "# Rastgele degerler olusturma [0,1] arasinda uniform 3*3:\n",
    "\n",
    "rastgele_dizi = np.random.random((3,3))\n",
    "print(rastgele_dizi)"
   ]
  },
  {
   "cell_type": "code",
   "execution_count": 17,
   "id": "bebf9d96-dfed-4a0e-bf9d-d57a37bba24f",
   "metadata": {},
   "outputs": [
    {
     "name": "stdout",
     "output_type": "stream",
     "text": [
      "1\n",
      "[1 2 3 4]\n",
      "[7 6 5 4 3 2 1]\n"
     ]
    }
   ],
   "source": [
    "# Index\n",
    "\n",
    "dizi = np.array([1,2,3,4,5,6,7])\n",
    "\n",
    "\n",
    "print(dizi[0]) #ilk eleman\n",
    "print(dizi[:4]) #ilk dort eleman\n",
    "print(dizi[::-1]) #dizinin tersi"
   ]
  },
  {
   "cell_type": "code",
   "execution_count": 18,
   "id": "7e3eb154-862d-4099-ae08-def3fe2e5629",
   "metadata": {},
   "outputs": [
    {
     "name": "stdout",
     "output_type": "stream",
     "text": [
      "[[ 1  2  3  4  5]\n",
      " [ 6  7  8  9 10]]\n"
     ]
    }
   ],
   "source": [
    "# \n",
    "dizi2d = np.array([[1,2,3,4,5],[6,7,8,9,10]])\n",
    "print(dizi2d)"
   ]
  },
  {
   "cell_type": "code",
   "execution_count": 21,
   "id": "ffb1a499-2761-424a-92ec-0764887fa6b6",
   "metadata": {},
   "outputs": [
    {
     "name": "stdout",
     "output_type": "stream",
     "text": [
      "7\n",
      "[2 7]\n",
      "[7 8 9]\n",
      "[ 6  7  8  9 10]\n"
     ]
    }
   ],
   "source": [
    "# Dizinin 1. satir ve 1. sutununda bulunan elemani bulma:\n",
    "print(dizi2d[1,1])\n",
    "\n",
    "# Dizinin 1. sutun ve tum satirlari alma:\n",
    "print(dizi2d[:,1])\n",
    "\n",
    "# Satir 1, Sutun 1,2,3\n",
    "print(dizi2d[1,1:4])\n",
    "\n",
    "# Dizinin son satir, tum sutunlari\n",
    "print(dizi2d[-1,:])"
   ]
  },
  {
   "cell_type": "code",
   "execution_count": 22,
   "id": "21808e26-67f7-4110-a9d6-0f0ac80d93ef",
   "metadata": {},
   "outputs": [
    {
     "name": "stdout",
     "output_type": "stream",
     "text": [
      "[[1 2 3]\n",
      " [4 5 6]\n",
      " [7 8 9]]\n"
     ]
    }
   ],
   "source": [
    "#\n",
    "dizi2D =np.array([[1,2,3],[4,5,6],[7,8,9]])\n",
    "print(dizi2D)"
   ]
  },
  {
   "cell_type": "code",
   "execution_count": 23,
   "id": "f91e7dd1-757b-4ee3-9918-e2d771575bef",
   "metadata": {},
   "outputs": [
    {
     "name": "stdout",
     "output_type": "stream",
     "text": [
      "[1 2 3 4 5 6 7 8 9]\n"
     ]
    }
   ],
   "source": [
    "#Vektor haline getirme:\n",
    "vektor = dizi2D.ravel()\n",
    "print(vektor)"
   ]
  },
  {
   "cell_type": "code",
   "execution_count": 24,
   "id": "9f1cefba-1ed1-4563-9c21-2509ee4c3ac2",
   "metadata": {},
   "outputs": [
    {
     "data": {
      "text/plain": [
       "8"
      ]
     },
     "execution_count": 24,
     "metadata": {},
     "output_type": "execute_result"
    }
   ],
   "source": [
    "# max sayinin index'ini bulma:\n",
    "\n",
    "vektor.argmax()"
   ]
  },
  {
   "cell_type": "markdown",
   "id": "76a01604-eda3-49ca-9b29-d0a3dac779c1",
   "metadata": {
    "tags": []
   },
   "source": [
    "### <font color=orange>**Pandas**</font>"
   ]
  },
  {
   "cell_type": "code",
   "execution_count": 25,
   "id": "2a06eefc-6cf5-4af5-8fc7-82ffcefa569d",
   "metadata": {},
   "outputs": [],
   "source": [
    "import pandas as pd"
   ]
  },
  {
   "cell_type": "code",
   "execution_count": 26,
   "id": "463ecb0f-cca6-4758-bafd-70286fbfcb45",
   "metadata": {},
   "outputs": [
    {
     "name": "stdout",
     "output_type": "stream",
     "text": [
      "    isim  yas   maas\n",
      "0    Ali   15   9000\n",
      "1   Veli   16  15000\n",
      "2  Kenan   17  16000\n",
      "3  Murat   45  25000\n",
      "4   Ayse   25  18500\n",
      "5  Hilal   36  17000\n"
     ]
    }
   ],
   "source": [
    "# Sozluk olustur:\n",
    "\n",
    "dictionary = {'isim' : ['Ali','Veli','Kenan','Murat','Ayse','Hilal'],\n",
    "              'yas'  : [15,16,17,45,25,36],\n",
    "              'maas' : [9000,15000,16000,25000,18500,17000]}\n",
    "\n",
    "veri = pd.DataFrame(dictionary)\n",
    "print(veri)"
   ]
  },
  {
   "cell_type": "code",
   "execution_count": 27,
   "id": "6ebf0a15-66b8-4876-a737-bc0a85cf26dd",
   "metadata": {},
   "outputs": [
    {
     "data": {
      "text/html": [
       "<div>\n",
       "<style scoped>\n",
       "    .dataframe tbody tr th:only-of-type {\n",
       "        vertical-align: middle;\n",
       "    }\n",
       "\n",
       "    .dataframe tbody tr th {\n",
       "        vertical-align: top;\n",
       "    }\n",
       "\n",
       "    .dataframe thead th {\n",
       "        text-align: right;\n",
       "    }\n",
       "</style>\n",
       "<table border=\"1\" class=\"dataframe\">\n",
       "  <thead>\n",
       "    <tr style=\"text-align: right;\">\n",
       "      <th></th>\n",
       "      <th>isim</th>\n",
       "      <th>yas</th>\n",
       "      <th>maas</th>\n",
       "    </tr>\n",
       "  </thead>\n",
       "  <tbody>\n",
       "    <tr>\n",
       "      <th>0</th>\n",
       "      <td>Ali</td>\n",
       "      <td>15</td>\n",
       "      <td>9000</td>\n",
       "    </tr>\n",
       "    <tr>\n",
       "      <th>1</th>\n",
       "      <td>Veli</td>\n",
       "      <td>16</td>\n",
       "      <td>15000</td>\n",
       "    </tr>\n",
       "    <tr>\n",
       "      <th>2</th>\n",
       "      <td>Kenan</td>\n",
       "      <td>17</td>\n",
       "      <td>16000</td>\n",
       "    </tr>\n",
       "    <tr>\n",
       "      <th>3</th>\n",
       "      <td>Murat</td>\n",
       "      <td>45</td>\n",
       "      <td>25000</td>\n",
       "    </tr>\n",
       "    <tr>\n",
       "      <th>4</th>\n",
       "      <td>Ayse</td>\n",
       "      <td>25</td>\n",
       "      <td>18500</td>\n",
       "    </tr>\n",
       "  </tbody>\n",
       "</table>\n",
       "</div>"
      ],
      "text/plain": [
       "    isim  yas   maas\n",
       "0    Ali   15   9000\n",
       "1   Veli   16  15000\n",
       "2  Kenan   17  16000\n",
       "3  Murat   45  25000\n",
       "4   Ayse   25  18500"
      ]
     },
     "execution_count": 27,
     "metadata": {},
     "output_type": "execute_result"
    }
   ],
   "source": [
    "# Ilk bes satir\n",
    "veri.head()"
   ]
  },
  {
   "cell_type": "code",
   "execution_count": 29,
   "id": "2c0f9fbf-8c69-43e9-88bf-1921379bc5d8",
   "metadata": {},
   "outputs": [
    {
     "data": {
      "text/plain": [
       "Index(['isim', 'yas', 'maas'], dtype='object')"
      ]
     },
     "execution_count": 29,
     "metadata": {},
     "output_type": "execute_result"
    }
   ],
   "source": [
    "# Sutunlar\n",
    "veri.columns"
   ]
  },
  {
   "cell_type": "code",
   "execution_count": 31,
   "id": "9ebf1068-a525-495b-92de-0acd9e5ad6c8",
   "metadata": {},
   "outputs": [
    {
     "name": "stdout",
     "output_type": "stream",
     "text": [
      "<class 'pandas.core.frame.DataFrame'>\n",
      "RangeIndex: 6 entries, 0 to 5\n",
      "Data columns (total 3 columns):\n",
      " #   Column  Non-Null Count  Dtype \n",
      "---  ------  --------------  ----- \n",
      " 0   isim    6 non-null      object\n",
      " 1   yas     6 non-null      int64 \n",
      " 2   maas    6 non-null      int64 \n",
      "dtypes: int64(2), object(1)\n",
      "memory usage: 272.0+ bytes\n"
     ]
    }
   ],
   "source": [
    "# Bilgi\n",
    "\n",
    "veri.info()"
   ]
  },
  {
   "cell_type": "code",
   "execution_count": 33,
   "id": "af263ce5-ec9d-4bf0-b0a7-1b01473e22c8",
   "metadata": {},
   "outputs": [
    {
     "data": {
      "text/html": [
       "<div>\n",
       "<style scoped>\n",
       "    .dataframe tbody tr th:only-of-type {\n",
       "        vertical-align: middle;\n",
       "    }\n",
       "\n",
       "    .dataframe tbody tr th {\n",
       "        vertical-align: top;\n",
       "    }\n",
       "\n",
       "    .dataframe thead th {\n",
       "        text-align: right;\n",
       "    }\n",
       "</style>\n",
       "<table border=\"1\" class=\"dataframe\">\n",
       "  <thead>\n",
       "    <tr style=\"text-align: right;\">\n",
       "      <th></th>\n",
       "      <th>yas</th>\n",
       "      <th>maas</th>\n",
       "    </tr>\n",
       "  </thead>\n",
       "  <tbody>\n",
       "    <tr>\n",
       "      <th>count</th>\n",
       "      <td>6.000000</td>\n",
       "      <td>6.000000</td>\n",
       "    </tr>\n",
       "    <tr>\n",
       "      <th>mean</th>\n",
       "      <td>25.666667</td>\n",
       "      <td>16750.000000</td>\n",
       "    </tr>\n",
       "    <tr>\n",
       "      <th>std</th>\n",
       "      <td>12.355835</td>\n",
       "      <td>5193.746239</td>\n",
       "    </tr>\n",
       "    <tr>\n",
       "      <th>min</th>\n",
       "      <td>15.000000</td>\n",
       "      <td>9000.000000</td>\n",
       "    </tr>\n",
       "    <tr>\n",
       "      <th>25%</th>\n",
       "      <td>16.250000</td>\n",
       "      <td>15250.000000</td>\n",
       "    </tr>\n",
       "    <tr>\n",
       "      <th>50%</th>\n",
       "      <td>21.000000</td>\n",
       "      <td>16500.000000</td>\n",
       "    </tr>\n",
       "    <tr>\n",
       "      <th>75%</th>\n",
       "      <td>33.250000</td>\n",
       "      <td>18125.000000</td>\n",
       "    </tr>\n",
       "    <tr>\n",
       "      <th>max</th>\n",
       "      <td>45.000000</td>\n",
       "      <td>25000.000000</td>\n",
       "    </tr>\n",
       "  </tbody>\n",
       "</table>\n",
       "</div>"
      ],
      "text/plain": [
       "             yas          maas\n",
       "count   6.000000      6.000000\n",
       "mean   25.666667  16750.000000\n",
       "std    12.355835   5193.746239\n",
       "min    15.000000   9000.000000\n",
       "25%    16.250000  15250.000000\n",
       "50%    21.000000  16500.000000\n",
       "75%    33.250000  18125.000000\n",
       "max    45.000000  25000.000000"
      ]
     },
     "execution_count": 33,
     "metadata": {},
     "output_type": "execute_result"
    }
   ],
   "source": [
    "# Betimsel istatistikler:\n",
    "\n",
    "veri.describe()"
   ]
  },
  {
   "cell_type": "code",
   "execution_count": 34,
   "id": "e16d90ac-1e2f-4255-ad0d-aa55cc9165e4",
   "metadata": {},
   "outputs": [
    {
     "data": {
      "text/plain": [
       "0    15\n",
       "1    16\n",
       "2    17\n",
       "3    45\n",
       "4    25\n",
       "5    36\n",
       "Name: yas, dtype: int64"
      ]
     },
     "execution_count": 34,
     "metadata": {},
     "output_type": "execute_result"
    }
   ],
   "source": [
    "# Yas sutunu\n",
    "\n",
    "veri['yas']"
   ]
  },
  {
   "cell_type": "code",
   "execution_count": 36,
   "id": "de41419f-00b1-4fc4-8144-97cb6dab1b0c",
   "metadata": {},
   "outputs": [
    {
     "data": {
      "text/html": [
       "<div>\n",
       "<style scoped>\n",
       "    .dataframe tbody tr th:only-of-type {\n",
       "        vertical-align: middle;\n",
       "    }\n",
       "\n",
       "    .dataframe tbody tr th {\n",
       "        vertical-align: top;\n",
       "    }\n",
       "\n",
       "    .dataframe thead th {\n",
       "        text-align: right;\n",
       "    }\n",
       "</style>\n",
       "<table border=\"1\" class=\"dataframe\">\n",
       "  <thead>\n",
       "    <tr style=\"text-align: right;\">\n",
       "      <th></th>\n",
       "      <th>isim</th>\n",
       "      <th>yas</th>\n",
       "      <th>maas</th>\n",
       "      <th>Sehir</th>\n",
       "    </tr>\n",
       "  </thead>\n",
       "  <tbody>\n",
       "    <tr>\n",
       "      <th>0</th>\n",
       "      <td>Ali</td>\n",
       "      <td>15</td>\n",
       "      <td>9000</td>\n",
       "      <td>Ank</td>\n",
       "    </tr>\n",
       "    <tr>\n",
       "      <th>1</th>\n",
       "      <td>Veli</td>\n",
       "      <td>16</td>\n",
       "      <td>15000</td>\n",
       "      <td>Ist</td>\n",
       "    </tr>\n",
       "    <tr>\n",
       "      <th>2</th>\n",
       "      <td>Kenan</td>\n",
       "      <td>17</td>\n",
       "      <td>16000</td>\n",
       "      <td>Bur</td>\n",
       "    </tr>\n",
       "    <tr>\n",
       "      <th>3</th>\n",
       "      <td>Murat</td>\n",
       "      <td>45</td>\n",
       "      <td>25000</td>\n",
       "      <td>San</td>\n",
       "    </tr>\n",
       "    <tr>\n",
       "      <th>4</th>\n",
       "      <td>Ayse</td>\n",
       "      <td>25</td>\n",
       "      <td>18500</td>\n",
       "      <td>Kas</td>\n",
       "    </tr>\n",
       "    <tr>\n",
       "      <th>5</th>\n",
       "      <td>Hilal</td>\n",
       "      <td>36</td>\n",
       "      <td>17000</td>\n",
       "      <td>Mar</td>\n",
       "    </tr>\n",
       "  </tbody>\n",
       "</table>\n",
       "</div>"
      ],
      "text/plain": [
       "    isim  yas   maas Sehir\n",
       "0    Ali   15   9000   Ank\n",
       "1   Veli   16  15000   Ist\n",
       "2  Kenan   17  16000   Bur\n",
       "3  Murat   45  25000   San\n",
       "4   Ayse   25  18500   Kas\n",
       "5  Hilal   36  17000   Mar"
      ]
     },
     "execution_count": 36,
     "metadata": {},
     "output_type": "execute_result"
    }
   ],
   "source": [
    "# Yeni bir sutun ekleme:\n",
    "\n",
    "veri['Sehir'] = ['Ank','Ist','Bur','San','Kas','Mar']\n",
    "veri"
   ]
  },
  {
   "cell_type": "code",
   "execution_count": 37,
   "id": "14e79c0d-467b-459e-a92d-734ce620ea91",
   "metadata": {},
   "outputs": [
    {
     "data": {
      "text/plain": [
       "0    15\n",
       "1    16\n",
       "2    17\n",
       "3    45\n",
       "4    25\n",
       "5    36\n",
       "Name: yas, dtype: int64"
      ]
     },
     "execution_count": 37,
     "metadata": {},
     "output_type": "execute_result"
    }
   ],
   "source": [
    "# Verinin yas sutununu ele alma:\n",
    "\n",
    "veri.loc[:,'yas']"
   ]
  },
  {
   "cell_type": "code",
   "execution_count": 39,
   "id": "6d922e5c-5b39-408b-aca1-ab1cf7122e88",
   "metadata": {},
   "outputs": [
    {
     "data": {
      "text/plain": [
       "0    15\n",
       "1    16\n",
       "2    17\n",
       "Name: yas, dtype: int64"
      ]
     },
     "execution_count": 39,
     "metadata": {},
     "output_type": "execute_result"
    }
   ],
   "source": [
    "# yas sutunu ve 3 satir\n",
    "\n",
    "veri.loc[:2,'yas']"
   ]
  },
  {
   "cell_type": "code",
   "execution_count": 44,
   "id": "9ce21bea-9892-4a8f-8a14-f686633509ae",
   "metadata": {},
   "outputs": [
    {
     "data": {
      "text/html": [
       "<div>\n",
       "<style scoped>\n",
       "    .dataframe tbody tr th:only-of-type {\n",
       "        vertical-align: middle;\n",
       "    }\n",
       "\n",
       "    .dataframe tbody tr th {\n",
       "        vertical-align: top;\n",
       "    }\n",
       "\n",
       "    .dataframe thead th {\n",
       "        text-align: right;\n",
       "    }\n",
       "</style>\n",
       "<table border=\"1\" class=\"dataframe\">\n",
       "  <thead>\n",
       "    <tr style=\"text-align: right;\">\n",
       "      <th></th>\n",
       "      <th>yas</th>\n",
       "      <th>maas</th>\n",
       "      <th>Sehir</th>\n",
       "    </tr>\n",
       "  </thead>\n",
       "  <tbody>\n",
       "    <tr>\n",
       "      <th>0</th>\n",
       "      <td>15</td>\n",
       "      <td>9000</td>\n",
       "      <td>Ank</td>\n",
       "    </tr>\n",
       "    <tr>\n",
       "      <th>1</th>\n",
       "      <td>16</td>\n",
       "      <td>15000</td>\n",
       "      <td>Ist</td>\n",
       "    </tr>\n",
       "    <tr>\n",
       "      <th>2</th>\n",
       "      <td>17</td>\n",
       "      <td>16000</td>\n",
       "      <td>Bur</td>\n",
       "    </tr>\n",
       "  </tbody>\n",
       "</table>\n",
       "</div>"
      ],
      "text/plain": [
       "   yas   maas Sehir\n",
       "0   15   9000   Ank\n",
       "1   16  15000   Ist\n",
       "2   17  16000   Bur"
      ]
     },
     "execution_count": 44,
     "metadata": {},
     "output_type": "execute_result"
    }
   ],
   "source": [
    "# yas ve sehir arasi sutunu ve 3 satir\n",
    "\n",
    "veri.loc[:2,'yas':'Sehir']"
   ]
  },
  {
   "cell_type": "code",
   "execution_count": 46,
   "id": "08fd34bb-c6e1-43a4-9820-b0193a29cafc",
   "metadata": {},
   "outputs": [
    {
     "data": {
      "text/html": [
       "<div>\n",
       "<style scoped>\n",
       "    .dataframe tbody tr th:only-of-type {\n",
       "        vertical-align: middle;\n",
       "    }\n",
       "\n",
       "    .dataframe tbody tr th {\n",
       "        vertical-align: top;\n",
       "    }\n",
       "\n",
       "    .dataframe thead th {\n",
       "        text-align: right;\n",
       "    }\n",
       "</style>\n",
       "<table border=\"1\" class=\"dataframe\">\n",
       "  <thead>\n",
       "    <tr style=\"text-align: right;\">\n",
       "      <th></th>\n",
       "      <th>yas</th>\n",
       "      <th>isim</th>\n",
       "    </tr>\n",
       "  </thead>\n",
       "  <tbody>\n",
       "    <tr>\n",
       "      <th>0</th>\n",
       "      <td>15</td>\n",
       "      <td>Ali</td>\n",
       "    </tr>\n",
       "    <tr>\n",
       "      <th>1</th>\n",
       "      <td>16</td>\n",
       "      <td>Veli</td>\n",
       "    </tr>\n",
       "    <tr>\n",
       "      <th>2</th>\n",
       "      <td>17</td>\n",
       "      <td>Kenan</td>\n",
       "    </tr>\n",
       "  </tbody>\n",
       "</table>\n",
       "</div>"
      ],
      "text/plain": [
       "   yas   isim\n",
       "0   15    Ali\n",
       "1   16   Veli\n",
       "2   17  Kenan"
      ]
     },
     "execution_count": 46,
     "metadata": {},
     "output_type": "execute_result"
    }
   ],
   "source": [
    "# isim yas ve 3 satir \n",
    "\n",
    "veri.loc[:2,['yas','isim']]"
   ]
  },
  {
   "cell_type": "code",
   "execution_count": 47,
   "id": "0dc164ab-625d-4ba8-b866-cd406abac67f",
   "metadata": {},
   "outputs": [
    {
     "data": {
      "text/html": [
       "<div>\n",
       "<style scoped>\n",
       "    .dataframe tbody tr th:only-of-type {\n",
       "        vertical-align: middle;\n",
       "    }\n",
       "\n",
       "    .dataframe tbody tr th {\n",
       "        vertical-align: top;\n",
       "    }\n",
       "\n",
       "    .dataframe thead th {\n",
       "        text-align: right;\n",
       "    }\n",
       "</style>\n",
       "<table border=\"1\" class=\"dataframe\">\n",
       "  <thead>\n",
       "    <tr style=\"text-align: right;\">\n",
       "      <th></th>\n",
       "      <th>isim</th>\n",
       "      <th>yas</th>\n",
       "      <th>maas</th>\n",
       "      <th>Sehir</th>\n",
       "    </tr>\n",
       "  </thead>\n",
       "  <tbody>\n",
       "    <tr>\n",
       "      <th>5</th>\n",
       "      <td>Hilal</td>\n",
       "      <td>36</td>\n",
       "      <td>17000</td>\n",
       "      <td>Mar</td>\n",
       "    </tr>\n",
       "    <tr>\n",
       "      <th>4</th>\n",
       "      <td>Ayse</td>\n",
       "      <td>25</td>\n",
       "      <td>18500</td>\n",
       "      <td>Kas</td>\n",
       "    </tr>\n",
       "    <tr>\n",
       "      <th>3</th>\n",
       "      <td>Murat</td>\n",
       "      <td>45</td>\n",
       "      <td>25000</td>\n",
       "      <td>San</td>\n",
       "    </tr>\n",
       "    <tr>\n",
       "      <th>2</th>\n",
       "      <td>Kenan</td>\n",
       "      <td>17</td>\n",
       "      <td>16000</td>\n",
       "      <td>Bur</td>\n",
       "    </tr>\n",
       "    <tr>\n",
       "      <th>1</th>\n",
       "      <td>Veli</td>\n",
       "      <td>16</td>\n",
       "      <td>15000</td>\n",
       "      <td>Ist</td>\n",
       "    </tr>\n",
       "    <tr>\n",
       "      <th>0</th>\n",
       "      <td>Ali</td>\n",
       "      <td>15</td>\n",
       "      <td>9000</td>\n",
       "      <td>Ank</td>\n",
       "    </tr>\n",
       "  </tbody>\n",
       "</table>\n",
       "</div>"
      ],
      "text/plain": [
       "    isim  yas   maas Sehir\n",
       "5  Hilal   36  17000   Mar\n",
       "4   Ayse   25  18500   Kas\n",
       "3  Murat   45  25000   San\n",
       "2  Kenan   17  16000   Bur\n",
       "1   Veli   16  15000   Ist\n",
       "0    Ali   15   9000   Ank"
      ]
     },
     "execution_count": 47,
     "metadata": {},
     "output_type": "execute_result"
    }
   ],
   "source": [
    "# Satirlari tersten yazma\n",
    "\n",
    "veri.loc[::-1,:]"
   ]
  },
  {
   "cell_type": "code",
   "execution_count": 48,
   "id": "08c929bd-ccff-491c-8dc9-17b46d0684ee",
   "metadata": {},
   "outputs": [
    {
     "data": {
      "text/plain": [
       "0    15\n",
       "1    16\n",
       "2    17\n",
       "3    45\n",
       "4    25\n",
       "5    36\n",
       "Name: yas, dtype: int64"
      ]
     },
     "execution_count": 48,
     "metadata": {},
     "output_type": "execute_result"
    }
   ],
   "source": [
    "# yas sutunu with iloc\n",
    "\n",
    "veri.iloc[:,1]"
   ]
  },
  {
   "cell_type": "code",
   "execution_count": 50,
   "id": "5c9423f8-49cc-4e70-afa4-361a9b4d937d",
   "metadata": {},
   "outputs": [
    {
     "data": {
      "text/html": [
       "<div>\n",
       "<style scoped>\n",
       "    .dataframe tbody tr th:only-of-type {\n",
       "        vertical-align: middle;\n",
       "    }\n",
       "\n",
       "    .dataframe tbody tr th {\n",
       "        vertical-align: top;\n",
       "    }\n",
       "\n",
       "    .dataframe thead th {\n",
       "        text-align: right;\n",
       "    }\n",
       "</style>\n",
       "<table border=\"1\" class=\"dataframe\">\n",
       "  <thead>\n",
       "    <tr style=\"text-align: right;\">\n",
       "      <th></th>\n",
       "      <th>isim</th>\n",
       "      <th>yas</th>\n",
       "    </tr>\n",
       "  </thead>\n",
       "  <tbody>\n",
       "    <tr>\n",
       "      <th>0</th>\n",
       "      <td>Ali</td>\n",
       "      <td>15</td>\n",
       "    </tr>\n",
       "    <tr>\n",
       "      <th>1</th>\n",
       "      <td>Veli</td>\n",
       "      <td>16</td>\n",
       "    </tr>\n",
       "    <tr>\n",
       "      <th>2</th>\n",
       "      <td>Kenan</td>\n",
       "      <td>17</td>\n",
       "    </tr>\n",
       "  </tbody>\n",
       "</table>\n",
       "</div>"
      ],
      "text/plain": [
       "    isim  yas\n",
       "0    Ali   15\n",
       "1   Veli   16\n",
       "2  Kenan   17"
      ]
     },
     "execution_count": 50,
     "metadata": {},
     "output_type": "execute_result"
    }
   ],
   "source": [
    "# Ilk 3 satir ve yas,isim\n",
    "\n",
    "veri.iloc[:3,0:2]"
   ]
  },
  {
   "cell_type": "code",
   "execution_count": 51,
   "id": "4eb0d2cb-0970-485a-9e07-46e6438f5203",
   "metadata": {},
   "outputs": [
    {
     "data": {
      "text/html": [
       "<div>\n",
       "<style scoped>\n",
       "    .dataframe tbody tr th:only-of-type {\n",
       "        vertical-align: middle;\n",
       "    }\n",
       "\n",
       "    .dataframe tbody tr th {\n",
       "        vertical-align: top;\n",
       "    }\n",
       "\n",
       "    .dataframe thead th {\n",
       "        text-align: right;\n",
       "    }\n",
       "</style>\n",
       "<table border=\"1\" class=\"dataframe\">\n",
       "  <thead>\n",
       "    <tr style=\"text-align: right;\">\n",
       "      <th></th>\n",
       "      <th>isim</th>\n",
       "      <th>yas</th>\n",
       "    </tr>\n",
       "  </thead>\n",
       "  <tbody>\n",
       "    <tr>\n",
       "      <th>0</th>\n",
       "      <td>Ali</td>\n",
       "      <td>15</td>\n",
       "    </tr>\n",
       "    <tr>\n",
       "      <th>1</th>\n",
       "      <td>Veli</td>\n",
       "      <td>16</td>\n",
       "    </tr>\n",
       "    <tr>\n",
       "      <th>2</th>\n",
       "      <td>Kenan</td>\n",
       "      <td>17</td>\n",
       "    </tr>\n",
       "  </tbody>\n",
       "</table>\n",
       "</div>"
      ],
      "text/plain": [
       "    isim  yas\n",
       "0    Ali   15\n",
       "1   Veli   16\n",
       "2  Kenan   17"
      ]
     },
     "execution_count": 51,
     "metadata": {},
     "output_type": "execute_result"
    }
   ],
   "source": [
    "# or\n",
    "\n",
    "veri.iloc[:3,[0,1]]"
   ]
  },
  {
   "cell_type": "code",
   "execution_count": 54,
   "id": "2c1be3c2-5e0b-4231-9a39-0fa6f8e9453a",
   "metadata": {},
   "outputs": [
    {
     "data": {
      "text/html": [
       "<div>\n",
       "<style scoped>\n",
       "    .dataframe tbody tr th:only-of-type {\n",
       "        vertical-align: middle;\n",
       "    }\n",
       "\n",
       "    .dataframe tbody tr th {\n",
       "        vertical-align: top;\n",
       "    }\n",
       "\n",
       "    .dataframe thead th {\n",
       "        text-align: right;\n",
       "    }\n",
       "</style>\n",
       "<table border=\"1\" class=\"dataframe\">\n",
       "  <thead>\n",
       "    <tr style=\"text-align: right;\">\n",
       "      <th></th>\n",
       "      <th>isim</th>\n",
       "      <th>yas</th>\n",
       "      <th>sehir</th>\n",
       "    </tr>\n",
       "  </thead>\n",
       "  <tbody>\n",
       "    <tr>\n",
       "      <th>0</th>\n",
       "      <td>Ali</td>\n",
       "      <td>15</td>\n",
       "      <td>Izmir</td>\n",
       "    </tr>\n",
       "    <tr>\n",
       "      <th>1</th>\n",
       "      <td>Veli</td>\n",
       "      <td>16</td>\n",
       "      <td>Ankara</td>\n",
       "    </tr>\n",
       "    <tr>\n",
       "      <th>2</th>\n",
       "      <td>Kenan</td>\n",
       "      <td>17</td>\n",
       "      <td>Konya</td>\n",
       "    </tr>\n",
       "    <tr>\n",
       "      <th>3</th>\n",
       "      <td>Murat</td>\n",
       "      <td>45</td>\n",
       "      <td>Ankara</td>\n",
       "    </tr>\n",
       "    <tr>\n",
       "      <th>4</th>\n",
       "      <td>Ayse</td>\n",
       "      <td>25</td>\n",
       "      <td>Ankara</td>\n",
       "    </tr>\n",
       "    <tr>\n",
       "      <th>5</th>\n",
       "      <td>Hilal</td>\n",
       "      <td>36</td>\n",
       "      <td>Antalya</td>\n",
       "    </tr>\n",
       "  </tbody>\n",
       "</table>\n",
       "</div>"
      ],
      "text/plain": [
       "    isim  yas    sehir\n",
       "0    Ali   15    Izmir\n",
       "1   Veli   16   Ankara\n",
       "2  Kenan   17    Konya\n",
       "3  Murat   45   Ankara\n",
       "4   Ayse   25   Ankara\n",
       "5  Hilal   36  Antalya"
      ]
     },
     "execution_count": 54,
     "metadata": {},
     "output_type": "execute_result"
    }
   ],
   "source": [
    "# Filtreleme\n",
    "dictionary = {'isim' : ['Ali','Veli','Kenan','Murat','Ayse','Hilal'],\n",
    "              'yas'  : [15,16,17,45,25,36],\n",
    "              'sehir' : ['Izmir','Ankara','Konya','Ankara','Ankara','Antalya']}\n",
    "\n",
    "veri = pd.DataFrame(dictionary)\n",
    "veri"
   ]
  },
  {
   "cell_type": "code",
   "execution_count": 56,
   "id": "0c1c4506-357e-4d14-89ac-2ed65e3dd549",
   "metadata": {},
   "outputs": [
    {
     "data": {
      "text/html": [
       "<div>\n",
       "<style scoped>\n",
       "    .dataframe tbody tr th:only-of-type {\n",
       "        vertical-align: middle;\n",
       "    }\n",
       "\n",
       "    .dataframe tbody tr th {\n",
       "        vertical-align: top;\n",
       "    }\n",
       "\n",
       "    .dataframe thead th {\n",
       "        text-align: right;\n",
       "    }\n",
       "</style>\n",
       "<table border=\"1\" class=\"dataframe\">\n",
       "  <thead>\n",
       "    <tr style=\"text-align: right;\">\n",
       "      <th></th>\n",
       "      <th>isim</th>\n",
       "      <th>yas</th>\n",
       "      <th>sehir</th>\n",
       "    </tr>\n",
       "  </thead>\n",
       "  <tbody>\n",
       "    <tr>\n",
       "      <th>3</th>\n",
       "      <td>Murat</td>\n",
       "      <td>45</td>\n",
       "      <td>Ankara</td>\n",
       "    </tr>\n",
       "    <tr>\n",
       "      <th>4</th>\n",
       "      <td>Ayse</td>\n",
       "      <td>25</td>\n",
       "      <td>Ankara</td>\n",
       "    </tr>\n",
       "    <tr>\n",
       "      <th>5</th>\n",
       "      <td>Hilal</td>\n",
       "      <td>36</td>\n",
       "      <td>Antalya</td>\n",
       "    </tr>\n",
       "  </tbody>\n",
       "</table>\n",
       "</div>"
      ],
      "text/plain": [
       "    isim  yas    sehir\n",
       "3  Murat   45   Ankara\n",
       "4   Ayse   25   Ankara\n",
       "5  Hilal   36  Antalya"
      ]
     },
     "execution_count": 56,
     "metadata": {},
     "output_type": "execute_result"
    }
   ],
   "source": [
    "# 22 yasindan buyukler:\n",
    "\n",
    "veri[veri['yas']>22]"
   ]
  },
  {
   "cell_type": "code",
   "execution_count": 57,
   "id": "b65dd2f7-b67e-42a5-89f7-dbbffddc38b7",
   "metadata": {},
   "outputs": [],
   "source": [
    "ort_yas = veri.yas.mean()"
   ]
  },
  {
   "cell_type": "code",
   "execution_count": 58,
   "id": "ee04ef04-59be-4ba8-97fd-644d45302fbe",
   "metadata": {},
   "outputs": [
    {
     "name": "stdout",
     "output_type": "stream",
     "text": [
      "    isim  yas    sehir Yas_Grubu\n",
      "0    Ali   15    Izmir     kucuk\n",
      "1   Veli   16   Ankara     kucuk\n",
      "2  Kenan   17    Konya     kucuk\n",
      "3  Murat   45   Ankara     buyuk\n",
      "4   Ayse   25   Ankara     kucuk\n",
      "5  Hilal   36  Antalya     buyuk\n"
     ]
    }
   ],
   "source": [
    "veri['Yas_Grubu'] = ['kucuk' if ort_yas>i else 'buyuk' for i in veri.yas]\n",
    "print(veri)"
   ]
  },
  {
   "cell_type": "code",
   "execution_count": 67,
   "id": "f6fe82ce-6c8c-4ea5-9364-66fffd504c03",
   "metadata": {},
   "outputs": [
    {
     "name": "stdout",
     "output_type": "stream",
     "text": [
      "    isim  yas    sehir\n",
      "0    Ali   15    izmir\n",
      "1   Veli   16   ankara\n",
      "2  Kenan   17    konya\n",
      "0  Murat   33   ankara\n",
      "1   Ayşe   45   ankara\n",
      "2  Hilal   66  antalya\n",
      "------------------------------------------\n",
      "    isim  yas   sehir   isim  yas    sehir\n",
      "0    Ali   15   izmir  Murat   33   ankara\n",
      "1   Veli   16  ankara   Ayşe   45   ankara\n",
      "2  Kenan   17   konya  Hilal   66  antalya\n"
     ]
    }
   ],
   "source": [
    "# Birlestirme: \n",
    "\n",
    "sozluk1 = {'isim' : ['Ali','Veli','Kenan'],\n",
    "           'yas'  : [15,16,17],\n",
    "           'sehir': ['izmir', 'ankara','konya']}\n",
    "veri1 = pd.DataFrame(sozluk1)\n",
    "\n",
    "sozluk2 = {'isim' : ['Murat','Ayşe','Hilal'],\n",
    "           'yas'  : [33,45,66],\n",
    "           'sehir': ['ankara','ankara','antalya']}\n",
    "veri2 = pd.DataFrame(sozluk2)\n",
    "\n",
    "# Dikey Birlestirme:\n",
    "\n",
    "veri_dikey = pd.concat([veri1,veri2],axis=0)\n",
    "print(veri_dikey)\n",
    "print('--'*21)\n",
    "\n",
    "veri_yatay = pd.concat([veri1,veri2],axis=1)\n",
    "print(veri_yatay)"
   ]
  },
  {
   "cell_type": "markdown",
   "id": "33d25a59-5dc2-47b5-843a-25c71d2ae526",
   "metadata": {
    "tags": []
   },
   "source": [
    "### <font color=orange>**Matplotlib Kutuphanesi**</font>"
   ]
  },
  {
   "cell_type": "code",
   "execution_count": 68,
   "id": "27efd50c-4350-4e98-81a6-eea7827fe831",
   "metadata": {},
   "outputs": [],
   "source": [
    "import matplotlib.pyplot as plt"
   ]
  },
  {
   "cell_type": "code",
   "execution_count": 89,
   "id": "9506c04f-c2ba-4903-b35f-c2670532a039",
   "metadata": {},
   "outputs": [
    {
     "data": {
      "image/png": "[encoded data removed]",
      "text/plain": [
       "<Figure size 300x300 with 1 Axes>"
      ]
     },
     "metadata": {},
     "output_type": "display_data"
    }
   ],
   "source": [
    "x = np.array([1,2,3,4])\n",
    "y = np.array([4,3,2,1])\n",
    "\n",
    "plt.figure(figsize=(3,3))\n",
    "plt.plot(x,y,color='orange',alpha=0.4,label='line')\n",
    "plt.scatter(x,y,color='black',alpha=0.6,label='Scatter')\n",
    "plt.title('Matplotlib')\n",
    "plt.xlabel('X')\n",
    "plt.ylabel('Y')\n",
    "plt.grid(True) #grid acma kapama\n",
    "plt.xticks([0,1,2,3,4,5])\n",
    "plt.yticks([0,1,2,3,4,5]) #grid cizgileri\n",
    "plt.legend()\n",
    "plt.show();"
   ]
  },
  {
   "cell_type": "code",
   "execution_count": 90,
   "id": "8e752bf6-a37d-43e9-8f2b-c4d42ac92e42",
   "metadata": {},
   "outputs": [
    {
     "data": {
      "text/plain": [
       "Text(0.5, 0, 'sub2-x')"
      ]
     },
     "execution_count": 90,
     "metadata": {},
     "output_type": "execute_result"
    },
    {
     "data": {
      "image/png": "[encoded data removed]",
      "text/plain": [
       "<Figure size 900x700 with 2 Axes>"
      ]
     },
     "metadata": {},
     "output_type": "display_data"
    }
   ],
   "source": [
    "# 2 satir 1 sutun\n",
    "fig, axes = plt.subplots(2,1,figsize = (9,7))\n",
    "fig.subplots_adjust(hspace = 0.5)\n",
    "\n",
    "x = [1,2,3,4,5,6,7,8,9,10]\n",
    "y = [10,9,8,7,6,5,4,3,2,1]\n",
    "\n",
    "axes[0].scatter(x,y)\n",
    "axes[0].set_title('sub-1')\n",
    "axes[0].set_ylabel('sub1-y')\n",
    "axes[0].set_xlabel('sub1-x')\n",
    "\n",
    "axes[1].scatter(x,y)\n",
    "axes[1].set_title('sub-2')\n",
    "axes[1].set_ylabel('sub2-y')\n",
    "axes[1].set_xlabel('sub2-x')"
   ]
  },
  {
   "cell_type": "code",
   "execution_count": 97,
   "id": "fe327451-1218-4b48-be20-d40cf0d09796",
   "metadata": {},
   "outputs": [
    {
     "data": {
      "image/png": "[encoded data removed]",
      "text/plain": [
       "<Figure size 300x300 with 1 Axes>"
      ]
     },
     "metadata": {},
     "output_type": "display_data"
    }
   ],
   "source": [
    "# Random sayilardan resim olusturma:\n",
    "\n",
    "plt.figure(figsize=(3,3))\n",
    "img = np.random.random((50,50))\n",
    "plt.imshow(img,cmap='gray')\n",
    "plt.axis('off') #eksendeki degerleri kapatir\n",
    "plt.show();"
   ]
  },
  {
   "cell_type": "markdown",
   "id": "0fa9ea0c-33c2-4fa9-ae50-95f56c35c7c0",
   "metadata": {
    "tags": []
   },
   "source": [
    "### <font color=orange>**OS Kutuphanesi**</font>"
   ]
  },
  {
   "cell_type": "code",
   "execution_count": 98,
   "id": "76471af7-917a-439a-915a-61fb528a123d",
   "metadata": {},
   "outputs": [],
   "source": [
    "import os "
   ]
  },
  {
   "cell_type": "code",
   "execution_count": 126,
   "id": "dfd81f91-0595-4559-9d86-7541950fd2ef",
   "metadata": {},
   "outputs": [
    {
     "name": "stdout",
     "output_type": "stream",
     "text": [
      "nt\n"
     ]
    }
   ],
   "source": [
    "#isletim sistemi sorgulama\n",
    "print(os.name)\n",
    "\n",
    "#nt = windows demek"
   ]
  },
  {
   "cell_type": "code",
   "execution_count": 127,
   "id": "7db0ff10-d8c4-4c2e-8b3d-f99f3fd07cc2",
   "metadata": {},
   "outputs": [
    {
     "name": "stdout",
     "output_type": "stream",
     "text": [
      "C:\\Users\\ithinka\\Desktop\\mchty\\Udemy-Python-OpenCV-Keras (GI_2)\n"
     ]
    }
   ],
   "source": [
    "#Su an icinde bulundugumuz klasor:\n",
    "currentDir = os.getcwd()\n",
    "print(currentDir)"
   ]
  },
  {
   "cell_type": "code",
   "execution_count": 128,
   "id": "d7219f18-adaf-4721-81a7-8a33ebb93632",
   "metadata": {},
   "outputs": [],
   "source": [
    "#new folder\n",
    "\n",
    "folder_name = 'new_folder'\n",
    "os.mkdir(folder_name)"
   ]
  },
  {
   "cell_type": "code",
   "execution_count": 129,
   "id": "5d109f2e-808a-4f19-8896-e9d26d0a5f8e",
   "metadata": {},
   "outputs": [],
   "source": [
    "new_folder_name = 'new_folder_2'\n",
    "os.rename(folder_name,new_folder_name)"
   ]
  },
  {
   "cell_type": "code",
   "execution_count": 130,
   "id": "3ee9afa4-2490-43f4-aaaa-5f76f8195190",
   "metadata": {},
   "outputs": [
    {
     "name": "stdout",
     "output_type": "stream",
     "text": [
      "C:\\Users\\ithinka\\Desktop\\mchty\\Udemy-Python-OpenCV-Keras (GI_2)\\new_folder_2\n"
     ]
    }
   ],
   "source": [
    "#klasor yoluna gitme:\n",
    "os.chdir(currentDir+'\\\\'+new_folder_name)\n",
    "print(os.getcwd())"
   ]
  },
  {
   "cell_type": "code",
   "execution_count": 131,
   "id": "fdf3682b-4cb8-472b-8f90-fe0035d2733f",
   "metadata": {},
   "outputs": [
    {
     "name": "stdout",
     "output_type": "stream",
     "text": [
      "C:\\Users\\ithinka\\Desktop\\mchty\\Udemy-Python-OpenCV-Keras (GI_2)\n"
     ]
    }
   ],
   "source": [
    "#ilk director a gitme:\n",
    "os.chdir(currentDir)\n",
    "print(os.getcwd())"
   ]
  },
  {
   "cell_type": "code",
   "execution_count": 132,
   "id": "86efd236-0d88-45e5-a1e6-424cf3c15610",
   "metadata": {},
   "outputs": [],
   "source": [
    "files = os.listdir()"
   ]
  },
  {
   "cell_type": "code",
   "execution_count": 133,
   "id": "fd17fa0f-76e4-4cbe-b154-cf33856de3f6",
   "metadata": {},
   "outputs": [
    {
     "data": {
      "text/plain": [
       "['.ipynb_checkpoints', 'new_folder_2', 'Python-Hatirlatma.ipynb']"
      ]
     },
     "execution_count": 133,
     "metadata": {},
     "output_type": "execute_result"
    }
   ],
   "source": [
    "files"
   ]
  },
  {
   "cell_type": "code",
   "execution_count": 135,
   "id": "8806d3b4-f03f-4d3e-a434-c93ea2cfd6c2",
   "metadata": {},
   "outputs": [
    {
     "name": "stdout",
     "output_type": "stream",
     "text": [
      "Python-Hatirlatma.ipynb\n"
     ]
    }
   ],
   "source": [
    "# sonu .ipynb ile biten dosyalar \n",
    "for f in files:\n",
    "    if f.endswith('.ipynb'):\n",
    "        print(f)"
   ]
  },
  {
   "cell_type": "code",
   "execution_count": 138,
   "id": "a556950d-6576-403a-a68d-33539e01bb6e",
   "metadata": {},
   "outputs": [],
   "source": [
    "# new_folder_2 klasorunu silme\n",
    "os.rmdir(new_folder_name)"
   ]
  },
  {
   "cell_type": "code",
   "execution_count": 139,
   "id": "05a2ec73-4e62-4496-aef7-db8e7eda271a",
   "metadata": {},
   "outputs": [
    {
     "name": "stdout",
     "output_type": "stream",
     "text": [
      "['.ipynb_checkpoints', 'Python-Hatirlatma.ipynb']\n"
     ]
    }
   ],
   "source": [
    "print(os.listdir())"
   ]
  },
  {
   "cell_type": "code",
   "execution_count": 141,
   "id": "9969fc30-475b-4264-b143-976874a5d102",
   "metadata": {},
   "outputs": [
    {
     "name": "stdout",
     "output_type": "stream",
     "text": [
      "('C:\\\\Users\\\\ithinka\\\\Desktop\\\\mchty\\\\Udemy-Python-OpenCV-Keras (GI_2)', [], ['Python-Hatirlatma.ipynb'])\n"
     ]
    }
   ],
   "source": [
    "# Dosya icerisinde ne varsa yazdirma:\n",
    "for i in os.walk(currentDir):\n",
    "    print(i)"
   ]
  },
  {
   "cell_type": "code",
   "execution_count": 142,
   "id": "58c9925f-adeb-440d-bf2c-32850392b954",
   "metadata": {},
   "outputs": [
    {
     "data": {
      "text/plain": [
       "True"
      ]
     },
     "execution_count": 142,
     "metadata": {},
     "output_type": "execute_result"
    }
   ],
   "source": [
    "# Aradigimiz dosya var mi yok mu kontrol edelim:\n",
    "\n",
    "os.path.exists('Python-Hatirlatma.ipynb')"
   ]
  }
 ],
 "metadata": {
  "kernelspec": {
   "display_name": "Python 3 (ipykernel)",
   "language": "python",
   "name": "python3"
  },
  "language_info": {
   "codemirror_mode": {
    "name": "ipython",
    "version": 3
   },
   "file_extension": ".py",
   "mimetype": "text/x-python",
   "name": "python",
   "nbconvert_exporter": "python",
   "pygments_lexer": "ipython3",
   "version": "3.9.13"
  }
 },
 "nbformat": 4,
 "nbformat_minor": 5
}
