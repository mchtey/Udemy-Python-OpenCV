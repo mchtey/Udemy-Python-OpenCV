{
 "cells": [
  {
   "cell_type": "markdown",
   "id": "c704787f-f74f-4f4c-bb7e-503ec43c7fbf",
   "metadata": {},
   "source": [
    "# <font color=orange>**Evrisimsel Sinir Aglari ile Nesne Tespiti**</font> <font color=gray>**(CNN)**</font>"
   ]
  },
  {
   "cell_type": "markdown",
   "id": "60f08254-1ef9-4394-a0ad-cebf35bd7f6a",
   "metadata": {},
   "source": [
    "## <font color=orange>**Maksimum Olmayan Bastirma**</font> <font color=gray>**-**</font>"
   ]
  },
  {
   "cell_type": "markdown",
   "id": "9940b6da-5885-4672-9784-26ecdcb3b0ee",
   "metadata": {},
   "source": [
    "* Daha kucuk ortusen sinirlayici kutulari yok sayar ve yalnizca daha buyuk olanlari dondurur.\n",
    "\n",
    "* Kutular arasinda **Birlik Uzerinden Kesisme <font color=red>(Intersection over Union)</font> degeri hesaplanir.\n",
    "\n",
    "* Belirli bir esik degerinin altinda kalan kutular elenir."
   ]
  },
  {
   "cell_type": "code",
   "execution_count": 1,
   "id": "06c44aa5-6faa-4841-bbee-d775309ef301",
   "metadata": {},
   "outputs": [],
   "source": [
    "import cv2\n",
    "import numpy as np"
   ]
  },
  {
   "cell_type": "code",
   "execution_count": 3,
   "id": "991a752d-7215-4683-bfcd-df5cc030f0ca",
   "metadata": {},
   "outputs": [],
   "source": [
    "def non_maxi_supression(boxes, probs= None, overlapThresh=(0.3)):\n",
    "    if len(boxes) == 0:\n",
    "        return[]\n",
    "    \n",
    "    if boxes.dtype.kind == 'i':\n",
    "        boxes = boxes.asstype('float')\n",
    "        \n",
    "    x1 = boxes[:,0]\n",
    "    y1 = boxes[:,1]\n",
    "    x2 = boxes[:,2]\n",
    "    y2 = boxes[:,3]\n",
    "    \n",
    "    # Alani bulalim:\n",
    "    area = (x2 - x1 + 1)*(y2 - y1 + 1)\n",
    "    \n",
    "    idxs = y2\n",
    "    # Olasilik degerleri:\n",
    "    if probs is not None:\n",
    "        idxs = probs\n",
    "        \n",
    "    idxs = np.argsort(idxs)\n",
    "    pick = [] # Secilen kutular\n",
    "    \n",
    "    while len(idxs) > 0:\n",
    "        last = len(idxs) - 1\n",
    "        i = idxs[last]\n",
    "        pick.append(i)\n",
    "        \n",
    "        # En buyuk ve en kucuk x ve y:\n",
    "        xx1 = np. maximum(x1[i], x1[idxs[:last]])\n",
    "        yy1 = np. maximum(y1[i], y1[idxs[:last]])\n",
    "        xx2 = np. minimum(x2[i], x2[idxs[:last]])\n",
    "        yy2 = np. minimum(y2[i], y2[idxs[:last]])\n",
    "        \n",
    "        # w, h bulma:\n",
    "        w = np.maximum(0,xx2 - xx1 + 1)\n",
    "        h = np.maximum(0,yy2 - yy1 + 1)\n",
    "        \n",
    "        # overlap \n",
    "        overlap = (w*h)/area[idxs[:last]]\n",
    "        #threshold un altinda kalan indexleri silme:\n",
    "        idxs = np.delete(idxs, np.concatenate(([last], np.where(overlap > overlapThresh))))\n",
    "    \n",
    "    return boxes[pick].astype('int')"
   ]
  }
 ],
 "metadata": {
  "kernelspec": {
   "display_name": "Python 3 (ipykernel)",
   "language": "python",
   "name": "python3"
  },
  "language_info": {
   "codemirror_mode": {
    "name": "ipython",
    "version": 3
   },
   "file_extension": ".py",
   "mimetype": "text/x-python",
   "name": "python",
   "nbconvert_exporter": "python",
   "pygments_lexer": "ipython3",
   "version": "3.9.15"
  }
 },
 "nbformat": 4,
 "nbformat_minor": 5
}
