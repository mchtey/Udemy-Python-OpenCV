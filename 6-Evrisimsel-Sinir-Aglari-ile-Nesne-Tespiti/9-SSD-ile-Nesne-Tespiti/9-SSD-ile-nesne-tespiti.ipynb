{
 "cells": [
  {
   "cell_type": "markdown",
   "id": "38f859e1-828a-4916-9f25-ee4608822489",
   "metadata": {},
   "source": [
    "# <font color=orange>**Evrisimsel Sinir Aglari**</font> <font color=gray>**(CNN)**</font>"
   ]
  },
  {
   "cell_type": "markdown",
   "id": "9d9d8858-bf7d-480f-be99-b28d9f319d43",
   "metadata": {},
   "source": [
    "## <font color=orange>**SSD ile Nesne Tespiti**</font> <font color=gray>**-**</font>"
   ]
  },
  {
   "cell_type": "code",
   "execution_count": 1,
   "id": "526532df-39ed-4cb7-8436-c5a17a6b782e",
   "metadata": {},
   "outputs": [],
   "source": [
    "import numpy as np\n",
    "import cv2\n",
    "import os"
   ]
  },
  {
   "cell_type": "code",
   "execution_count": 2,
   "id": "018a4855-1da1-44ef-99a6-c9d92e2b22f7",
   "metadata": {},
   "outputs": [],
   "source": [
    "CLASSES = ['background','aeroplane','bicycle', 'bird', 'boat','bottle','bus',\n",
    "          'car','cat','chair','cow','dinningtable','dog','horse','motorbike',\n",
    "           'person','poddetplant', 'sheep','sofa','train','tvmonitor']\n",
    "\n",
    "\n",
    "COLORS = np.random.uniform(0, 255, size = (len(CLASSES), 3))\n",
    "\n",
    "net = cv2.dnn.readNetFromCaffe('MobileNetSSD_deploy.prototxt.txt', 'MobileNetSSD_deploy.caffemodel')\n",
    "\n",
    "files = os.listdir()\n",
    "img_path_list = []\n",
    "\n",
    "for f in files:\n",
    "    if f.endswith('.jpg'):\n",
    "        img_path_list.append(f)\n",
    "        \n",
    "\n",
    "for i in img_path_list:\n",
    "    \n",
    "    image = cv2.imread(i)\n",
    "    (h, w) = image.shape[:2]\n",
    "    blob = cv2.dnn.blobFromImage(cv2.resize(image, (300,300)), 0.007843, (300,300), 127.5)\n",
    "    \n",
    "    net.setInput(blob)\n",
    "    detections = net.forward()\n",
    "    \n",
    "    for j in np.arange(0, detections.shape[2]):\n",
    "        \n",
    "        confidence = detections[0,0,j,2]\n",
    "        \n",
    "        if confidence > 0.15:\n",
    "            \n",
    "            idx = int(detections[0,0,j,1])\n",
    "            box = detections[0,0,j,3:7]*np.array([w,h,w,h])\n",
    "            (startX, startY, endX, endY) = box.astype('int')\n",
    "            \n",
    "            label = '{}: {}'.format(CLASSES[idx], confidence)\n",
    "            cv2.rectangle(image, (startX, startY),(endX, endY), COLORS[idx], 2)\n",
    "            y = startY - 16 if startY - 16 > 15 else startY + 16\n",
    "            cv2.putText(image, label, (startX, y), cv2.FONT_HERSHEY_SIMPLEX, 0.5, COLORS[idx], 2)\n",
    "            \n",
    "    cv2.imshow('ssd',image)\n",
    "    if cv2.waitKey(0) & 0xFF == ord('q'): continue\n",
    "    \n",
    "cv2.destroyAllWindows()"
   ]
  },
  {
   "cell_type": "code",
   "execution_count": 4,
   "id": "bd5512fd-b4b5-4de4-809b-34bc62a75a34",
   "metadata": {},
   "outputs": [],
   "source": [
    "# Realtime object detection"
   ]
  },
  {
   "cell_type": "code",
   "execution_count": 5,
   "id": "895dee5a-02a7-4316-8922-5c02e33d17b8",
   "metadata": {},
   "outputs": [],
   "source": [
    "import numpy as np\n",
    "import cv2\n",
    "import os"
   ]
  },
  {
   "cell_type": "code",
   "execution_count": 6,
   "id": "331569a2-7492-407f-8ba8-f0b13aa290e1",
   "metadata": {},
   "outputs": [],
   "source": [
    "CLASSES = ['background','aeroplane','bicycle', 'bird', 'boat','bottle','bus',\n",
    "          'car','cat','chair','cow','dinningtable','dog','horse','motorbike',\n",
    "           'person','poddetplant', 'sheep','sofa','train','tvmonitor']\n",
    "\n",
    "\n",
    "COLORS = np.random.uniform(0, 255, size = (len(CLASSES), 3))\n",
    "\n",
    "net = cv2.dnn.readNetFromCaffe('MobileNetSSD_deploy.prototxt.txt', 'MobileNetSSD_deploy.caffemodel')\n",
    "\n",
    "cap = cv2.VideoCapture(0)\n",
    "cap.set(3,800)\n",
    "cap.set(4,600)\n",
    "\n",
    "while True:\n",
    "    \n",
    "    success, image = cap.read()\n",
    "    (h, w) = image.shape[:2]\n",
    "    blob = cv2.dnn.blobFromImage(cv2.resize(image, (300,300)), 0.007843, (300,300), 127.5)\n",
    "    \n",
    "    net.setInput(blob)\n",
    "    detections = net.forward()\n",
    "    \n",
    "    for j in np.arange(0, detections.shape[2]):\n",
    "        \n",
    "        confidence = detections[0,0,j,2]\n",
    "        \n",
    "        if confidence > 0.15:\n",
    "            \n",
    "            idx = iqnt(detections[0,0,j,1])\n",
    "            box = detections[0,0,j,3:7]*np.array([w,h,w,h])\n",
    "            (startX, startY, endX, endY) = box.astype('int')\n",
    "            \n",
    "            label = '{}: {}'.format(CLASSES[idx], confidence)\n",
    "            cv2.rectangle(image, (startX, startY),(endX, endY), COLORS[idx], 2)\n",
    "            y = startY - 16 if startY - 16 > 15 else startY + 16\n",
    "            cv2.putText(image, label, (startX, y), cv2.FONT_HERSHEY_SIMPLEX, 0.5, COLORS[idx], 2)\n",
    "            \n",
    "    cv2.imshow('ssd',image)\n",
    "    if cv2.waitKey(1) & 0xFF == ord('q'): break\n",
    "    \n",
    "cv2.destroyAllWindows()"
   ]
  }
 ],
 "metadata": {
  "kernelspec": {
   "display_name": "Python 3 (ipykernel)",
   "language": "python",
   "name": "python3"
  },
  "language_info": {
   "codemirror_mode": {
    "name": "ipython",
    "version": 3
   },
   "file_extension": ".py",
   "mimetype": "text/x-python",
   "name": "python",
   "nbconvert_exporter": "python",
   "pygments_lexer": "ipython3",
   "version": "3.9.15"
  }
 },
 "nbformat": 4,
 "nbformat_minor": 5
}
