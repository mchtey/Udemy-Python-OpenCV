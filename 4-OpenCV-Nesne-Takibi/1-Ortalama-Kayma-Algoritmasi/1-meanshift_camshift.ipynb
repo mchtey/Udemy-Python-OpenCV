{
 "cells": [
  {
   "cell_type": "markdown",
   "id": "072426cf-f560-4e4b-b71e-12673b6e3549",
   "metadata": {},
   "source": [
    "# <font color=orange>**OpenCV ile Nesne Takibi**</font>"
   ]
  },
  {
   "cell_type": "markdown",
   "id": "3a8d4e62-640e-41ce-8e59-0d2572d0fb1c",
   "metadata": {},
   "source": [
    "## <font color=gold>**Ortalama Kayma Algoritmasi**</font> <font color=gray>**(Meanshift Camshift)**</font>"
   ]
  },
  {
   "cell_type": "markdown",
   "id": "ccae64b2-34d3-4c6c-8fd6-351c9d29a2ba",
   "metadata": {},
   "source": [
    "* ***Meanshift (Ortalama Kayma),*** noktalari Mod'a dogru kaydirarak veri noktalarini kumelere yinelemeli olarak atayan bir kumeleme algoritmasidir.\n",
    "\n",
    "* Mod, en yuksek veri noktasi yogunlugu olarak tanimlanabilir.\n",
    "* Bu nedenle, <font color=red>**Mod arama**</font> algoritmasi olarak da bilinir."
   ]
  },
  {
   "cell_type": "code",
   "execution_count": 7,
   "id": "726d426b-c7cb-4c03-a912-7158ab299173",
   "metadata": {},
   "outputs": [],
   "source": [
    "import cv2\n",
    "import numpy as np\n",
    "\n",
    "# Kamera acma:\n",
    "cap = cv2.VideoCapture(0)\n",
    "\n",
    "# Bir tane frame oku:\n",
    "ret, frame = cap.read()\n",
    "\n",
    "if ret == False: # Kamera acildiginda yuz goremezse hata verirken uyari versin.\n",
    "    print('Uyarı!!!')\n",
    "\n",
    "# Detection\n",
    "face_cascade = cv2.CascadeClassifier('haarcascade_frontalface_default.xml')\n",
    "face_rects = face_cascade.detectMultiScale(frame)\n",
    "#kamera acar acmaz bir yuz dogrultmak gereklidir.\n",
    "\n",
    "(face_x, face_y, w, h) = tuple(face_rects[0])\n",
    "\n",
    "# meanshift algoritmasi girdisi\n",
    "track_windows = (face_x, face_y, w, h)\n",
    "\n",
    "# Region of interest\n",
    "roi = frame[face_y:face_y + h, face_x:face_x + w] # Roi = face\n",
    "\n",
    "# Calisma hsv formatinda incelenecek:\n",
    "hsv_roi = cv2.cvtColor(roi, cv2.COLOR_BGR2HSV)\n",
    "\n",
    "# Histogram: Takip icin gereklidir.\n",
    "roi_hist = cv2.calcHist([hsv_roi],[0],None,[180],[0,180])\n",
    "\n",
    "# Normalize:\n",
    "cv2.normalize(roi_hist, roi_hist, 0, 255, cv2.NORM_MINMAX)\n",
    "\n",
    "# Takip icin gerekli durdurma kriterleri:\n",
    "# count : Hesaplanacak maksimum oge sayisi\n",
    "# epsilon: degisiklik\n",
    "term_crit = (cv2.TERM_CRITERIA_EPS | cv2.TERM_CRITERIA_COUNT, 5, 1) #yani 5 yineleme veya 1 epsilon\n",
    "\n",
    "while True:\n",
    "    ret, frame = cap.read()\n",
    "    \n",
    "    if ret:\n",
    "        hsv = cv2.cvtColor(frame, cv2.COLOR_BGR2HSV)\n",
    "        '''\n",
    "        - Bir ozelligin hist hesaplanir ve ardindan ozelligi bir govde de bulmak icin kullanir \n",
    "        - Histogrami bir goruntude bulmak icin kullanilir.\n",
    "        - Belirli bir goruntunun piksellerinin bir hist. modelindeki piksel dagilimina ne kadar\n",
    "          uydugunu kaydetmenin bir yoludur. (Piksel Karsilastrma) \n",
    "        '''\n",
    "        dst = cv2.calcBackProject([hsv], [0], roi_hist, [0,180], 1)\n",
    "        \n",
    "        \n",
    "        # Meanshift kullanimi:\n",
    "        ret, track_windows = cv2.meanShift(dst, track_windows, term_crit)\n",
    "        x,y,w,h = track_windows\n",
    "        \n",
    "        img2 = cv2.rectangle(frame, (x,y), (x+w, y+h), (0,0,255), 5)\n",
    "        cv2.imshow('Takip', img2)\n",
    "        \n",
    "        if cv2.waitKey(1) & 0xFF == ord('q'): break\n",
    "        \n",
    "cap.release()\n",
    "cv2.destroyAllWindows()"
   ]
  },
  {
   "cell_type": "code",
   "execution_count": null,
   "id": "433d3043-73e5-46f3-8da8-fd0cae19c3c6",
   "metadata": {},
   "outputs": [],
   "source": []
  }
 ],
 "metadata": {
  "kernelspec": {
   "display_name": "Python 3 (ipykernel)",
   "language": "python",
   "name": "python3"
  },
  "language_info": {
   "codemirror_mode": {
    "name": "ipython",
    "version": 3
   },
   "file_extension": ".py",
   "mimetype": "text/x-python",
   "name": "python",
   "nbconvert_exporter": "python",
   "pygments_lexer": "ipython3",
   "version": "3.9.13"
  }
 },
 "nbformat": 4,
 "nbformat_minor": 5
}
