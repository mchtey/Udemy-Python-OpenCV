{
 "cells": [
  {
   "cell_type": "markdown",
   "id": "b7fb12d4-0856-46db-a395-5db71c0095b9",
   "metadata": {},
   "source": [
    "# <font color=orange>**OpenCV ile Nesne Takibi**</font>"
   ]
  },
  {
   "cell_type": "markdown",
   "id": "2d360d3e-3414-42b7-b12f-b0f84f2f8435",
   "metadata": {},
   "source": [
    "## <font color=gold>**Coklu Nesne Takibi**</font> <font color=gray>**(Multi Object Tracking)**</font>"
   ]
  },
  {
   "cell_type": "code",
   "execution_count": 2,
   "id": "af94976d-6edc-4bfc-9ed9-42a4bdfa275d",
   "metadata": {},
   "outputs": [],
   "source": [
    "import cv2\n",
    "import numpy as np"
   ]
  },
  {
   "cell_type": "code",
   "execution_count": 3,
   "id": "9d90f285-d78d-4053-b7f0-e528ad41ef39",
   "metadata": {},
   "outputs": [],
   "source": [
    "OPENCV_OBJECT_TRACKERS = {'csrt'         : cv2.TrackerCSRT_create,\n",
    "                          'kcf'          : cv2.TrackerKCF_create,\n",
    "                          'boosting'     : cv2.TrackerBoosting_create,\n",
    "                          'mil'          : cv2.TrackerMIL_create,\n",
    "                          'tld'          : cv2.TrackerTLD_create,\n",
    "                          'medianflow'   : cv2.TrackerMedianFlow_create,\n",
    "                          'mosse'        : cv2.TrackerMOSSE_create}"
   ]
  },
  {
   "cell_type": "code",
   "execution_count": null,
   "id": "eafa3586-7950-40a2-932d-5473b6d1dd9e",
   "metadata": {},
   "outputs": [],
   "source": [
    "tracker_name = 'kcf'\n",
    "\n",
    "trackers = cv2.MultiTracker_create()\n",
    "\n",
    "video_path = 'MOT17-04-DPM.mp4'\n",
    "cap = cv2.VideoCapture(video_path)\n",
    "\n",
    "fps = 30\n",
    "f = 0\n",
    "\n",
    "while True:\n",
    "    ret, frame = cap.read()\n",
    "    (H, W) = frame.shape[:2]\n",
    "    frame = cv2.resize(frame, dsize = (960,540))\n",
    "    if ret:\n",
    "        assert not isinstance(frame,type(None)), 'frame not found'\n",
    "    (success, boxes) = trackers.update(frame)\n",
    "    \n",
    "    info = [('Tracker', tracker_name),\n",
    "            ('Success', 'Yes' if success else 'No')]\n",
    "    \n",
    "    string_text = ''\n",
    "    \n",
    "    for (i, (k,v)) in enumerate(info):\n",
    "        text = '{}: {}'.format(k,v)\n",
    "        string_text = string_text + text + ' '\n",
    "    \n",
    "    cv2.putText(frame, string_text, (10,20), cv2.FONT_HERSHEY_SIMPLEX, 0.6, (0,0,255), 2)\n",
    "    \n",
    "    for box in boxes:\n",
    "        (x, y, w, h) = [int(v) for v in box]\n",
    "        cv2.rectangle(frame, (x,y), (x+w, y+h), (0,255,0), 2)\n",
    "        \n",
    "    # frame 'i gorsellestirme:\n",
    "    cv2.imshow('Frame',frame)\n",
    "    key = cv2.waitKey(1) & 0xFF\n",
    "    \n",
    "    if key == ord('t'):\n",
    "        box = cv2.selectROI('Frame', frame, fromCenter = False)\n",
    "        \n",
    "        # birden fazla tracker old icin coklu takip yapilabiliyor\n",
    "        tracker = OPENCV_OBJECT_TRACKERS[tracker_name]()\n",
    "        trackers.add(tracker, frame, box)\n",
    "        \n",
    "    elif key == ord('q'): break\n",
    "    \n",
    "    f = f + 1\n",
    "\n",
    "cap.release()\n",
    "cv2.destroyAllWindows()\n",
    "        "
   ]
  }
 ],
 "metadata": {
  "kernelspec": {
   "display_name": "Python 3 (ipykernel)",
   "language": "python",
   "name": "python3"
  },
  "language_info": {
   "codemirror_mode": {
    "name": "ipython",
    "version": 3
   },
   "file_extension": ".py",
   "mimetype": "text/x-python",
   "name": "python",
   "nbconvert_exporter": "python",
   "pygments_lexer": "ipython3",
   "version": "3.9.15"
  }
 },
 "nbformat": 4,
 "nbformat_minor": 5
}
