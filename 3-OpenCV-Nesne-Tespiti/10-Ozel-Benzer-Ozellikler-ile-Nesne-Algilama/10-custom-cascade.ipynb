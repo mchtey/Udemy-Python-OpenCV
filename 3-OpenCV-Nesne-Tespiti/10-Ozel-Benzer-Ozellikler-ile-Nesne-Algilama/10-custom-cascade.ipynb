{
 "cells": [
  {
   "cell_type": "markdown",
   "id": "888c5d24-135f-4466-8076-d7dd484eab99",
   "metadata": {},
   "source": [
    "# <font color=orange>**OpenCV ile Nesne Tespiti**</font>"
   ]
  },
  {
   "cell_type": "markdown",
   "id": "4cf56ba7-aa40-4d73-8661-2b853529bf35",
   "metadata": {},
   "source": [
    "## <font color=gold>**Ozel Benzer Ozellikler ile Nesne Tespiti**</font> <font color=gray>**(Custom Cascade)**</font>"
   ]
  },
  {
   "cell_type": "code",
   "execution_count": 1,
   "id": "637cd8b4-de0a-4095-ae1b-fb781da0184d",
   "metadata": {},
   "outputs": [],
   "source": [
    "import cv2\n",
    "import os\n",
    "import matplotlib.pyplot as plt"
   ]
  },
  {
   "cell_type": "code",
   "execution_count": 2,
   "id": "0f60dbd6-4b20-4228-b1e5-46fa5af2dfa7",
   "metadata": {},
   "outputs": [],
   "source": [
    "'''\n",
    "1- veri seti:\n",
    "    n,p\n",
    "2- cascade programi indirilecek\n",
    "3- cascade olustur\n",
    "4- cascade kullanarak tespit algoritmasi yaz\n",
    "'''\n",
    "\n",
    "# Resim depo klasoru\n",
    "path = 'images'\n",
    "\n",
    "# Resim Boyutu:\n",
    "imgWidth  = 180\n",
    "imgHeight = 120\n",
    "\n",
    "# Video Capture:\n",
    "cap = cv2.VideoCapture(0)\n",
    "cap.set(3,640) #kamera pikseli\n",
    "cap.set(4,480) #kamera pikseli\n",
    "cap.set(10,180) #kamera aydinlik seviyesi\n",
    "\n",
    "# Klasor olusturma:\n",
    "\n",
    "global countFolder\n",
    "def saveDataFunc():\n",
    "    global countFolder\n",
    "    countFolder = 0\n",
    "    while os.path.exists(path+ str(countFolder)):\n",
    "        countFolder +=1\n",
    "    os.makedirs(path + str(countFolder))\n",
    "\n",
    "saveDataFunc()"
   ]
  },
  {
   "cell_type": "code",
   "execution_count": null,
   "id": "000b349b-fbc5-41e1-a508-485a40c7b228",
   "metadata": {
    "tags": []
   },
   "outputs": [],
   "source": [
    "# Kamerayi aktif hale getirip veri toplayalim:\n",
    "\n",
    "count = 0\n",
    "countSave = 0\n",
    "\n",
    "while True:\n",
    "    success, img = cap.read()\n",
    "    \n",
    "    if success:\n",
    "        img = cv2.resize(img,(imgWidth,imgHeight))\n",
    "        # Kamera boyutunu buyuk resim boyutunu kucuk tutuyoruz.\n",
    "        \n",
    "        # Cok hizli veri toplyacagi icin her 5 tanede 1 depolamak yeterli\n",
    "        if count % 5 == 0:\n",
    "            cv2.imwrite(path + str(countFolder)+ '/' + str(countSave) + '_' + '.png',img)\n",
    "            countSave += 1\n",
    "            print(countSave)\n",
    "        count += 1\n",
    "        \n",
    "        cv2.imshow('Image',img)\n",
    "    if cv2.waitKey(1) & 0xFF == ord('q'): break\n",
    "    \n",
    "cap.release()\n",
    "cv2.destroyAllWindows()"
   ]
  },
  {
   "cell_type": "code",
   "execution_count": 3,
   "id": "dff57b7c-af72-4aaf-bac6-944b600ce0f9",
   "metadata": {},
   "outputs": [],
   "source": [
    "# Video ile uygulama:\n",
    "\n",
    "import cv2\n",
    "\n",
    "objectName = 'Kalem Basligi'\n",
    "\n",
    "frameWidth = 280\n",
    "frameHeight = 360\n",
    "color = (255,0,0)\n",
    "\n",
    "cap = cv2.VideoCapture(0)\n",
    "cap.set(3,frameWidth)\n",
    "cap.set(4,frameHeight)\n",
    "\n",
    "def empty(a): pass\n",
    "\n",
    "# Track bar: scale bar\n",
    "cv2.namedWindow('Sonuc')\n",
    "cv2.resizeWindow('Sonuc', frameWidth, frameHeight + 100)\n",
    "cv2.createTrackbar('Scale', 'Sonuc', 400, 1000, empty)\n",
    "cv2.createTrackbar('Neighbor', 'Sonuc', 4, 50, empty)\n",
    "\n",
    "# Cascade Classifier\n",
    "cascade = cv2.CascadeClassifier('cascade.xml')\n",
    "\n",
    "while True:\n",
    "    # Read image\n",
    "    success, img = cap.read()\n",
    "    \n",
    "    if success: \n",
    "        # Convert BGR2GRAY\n",
    "        gray = cv2.cvtColor(img, cv2.COLOR_BGR2GRAY)\n",
    "\n",
    "        # Detection parametreleri:\n",
    "        scaleVal = 1 + (cv2.getTrackbarPos('Scale','Sonuc')/1000)\n",
    "        neighbor = cv2.getTrackbarPos('Scale','Sonuc')\n",
    "\n",
    "        # Detection:\n",
    "        rects = cascade.detectMultiScale(gray, scaleVal, neighbor)\n",
    "\n",
    "        # Rectangle'lari cizdirme:\n",
    "        for (x,y,w,h) in rects:\n",
    "\n",
    "            cv2.rectangle(img, (x,y), (x+w, y+h), color, 3)\n",
    "            cv2.putText(img, objectName, (x, y-5), cv2.FONT_HERSHEY_COMPLEX_SMALL, 1, color, 2)\n",
    "\n",
    "        cv2.imshow('Sonuc', img)\n",
    "    \n",
    "    if cv2.waitKey(1) & 0xFF == ord('q'): break\n",
    "    \n",
    "cap.release()\n",
    "cv2.destroyAllWindows()"
   ]
  }
 ],
 "metadata": {
  "kernelspec": {
   "display_name": "Python 3 (ipykernel)",
   "language": "python",
   "name": "python3"
  },
  "language_info": {
   "codemirror_mode": {
    "name": "ipython",
    "version": 3
   },
   "file_extension": ".py",
   "mimetype": "text/x-python",
   "name": "python",
   "nbconvert_exporter": "python",
   "pygments_lexer": "ipython3",
   "version": "3.9.13"
  }
 },
 "nbformat": 4,
 "nbformat_minor": 5
}
