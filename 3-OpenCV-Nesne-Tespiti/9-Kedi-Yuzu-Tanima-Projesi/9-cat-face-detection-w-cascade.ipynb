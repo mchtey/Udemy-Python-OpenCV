{
 "cells": [
  {
   "cell_type": "markdown",
   "id": "4ebf94fb-8003-4797-92fe-03f2e2e32585",
   "metadata": {},
   "source": [
    "# <font color=orange>**OpenCV ile Nesne Tespiti**</font>"
   ]
  },
  {
   "cell_type": "markdown",
   "id": "7b740472-fcdc-4573-ab6b-14a7ba8c7ca9",
   "metadata": {},
   "source": [
    "## <font color=gold>**Kedi Yuzu Tanima**</font> <font color=gray>**(Cat Face Detection w Cascade)**</font>"
   ]
  },
  {
   "cell_type": "code",
   "execution_count": 1,
   "id": "ea984f2c-d57d-45ab-8a63-313d4f1457dc",
   "metadata": {},
   "outputs": [],
   "source": [
    "import cv2\n",
    "import os"
   ]
  },
  {
   "cell_type": "code",
   "execution_count": 3,
   "id": "1da2befb-7500-4555-9661-985a2b0d609c",
   "metadata": {},
   "outputs": [
    {
     "name": "stdout",
     "output_type": "stream",
     "text": [
      "['.ipynb_checkpoints', '9-cat-face-detection-w-cascade.ipynb', 'cat_img1.jpg', 'cat_img2.jpg', 'cat_img3.jpg', 'haarcascade_frontalcatface.xml']\n"
     ]
    }
   ],
   "source": [
    "files = os.listdir()\n",
    "print(files)"
   ]
  },
  {
   "cell_type": "code",
   "execution_count": 20,
   "id": "7a5a5e68-b0a6-4413-bb7b-6e8b50f3720b",
   "metadata": {},
   "outputs": [
    {
     "name": "stdout",
     "output_type": "stream",
     "text": [
      "['cat_img1.jpg', 'cat_img2.jpg', 'cat_img3.jpg']\n"
     ]
    }
   ],
   "source": [
    "# Kedi resimlerini iceren liste:\n",
    "# Bir klasorun icerisinde resimler nasil okunur?\n",
    "img_path_list = []\n",
    "for f in files:\n",
    "    if f.endswith('.jpg'):\n",
    "        img_path_list.append(f)\n",
    "print(img_path_list)"
   ]
  },
  {
   "cell_type": "code",
   "execution_count": 51,
   "id": "b65f4b23-1318-4a25-82f9-8dbbaab3c7ad",
   "metadata": {},
   "outputs": [],
   "source": [
    "# Gorsellesitirme:\n",
    "\n",
    "for j in img_path_list:\n",
    "    image = cv2.imread(j)\n",
    "    \n",
    "    #haar cascade uygulama:\n",
    "    gray = cv2.cvtColor(image, cv2.COLOR_BGR2GRAY)\n",
    "    \n",
    "    detector = cv2.CascadeClassifier('haarcascade_frontalcatface.xml')\n",
    "    #rectangles\n",
    "    rects = detector.detectMultiScale(gray, scaleFactor = 1.045, minNeighbors = 2)\n",
    "    \n",
    "    for (i, (x,y,w,h)) in enumerate(rects):  #rect icindeki bilgileri (x,y,w,h) ye return edecek\n",
    "    # Bir de bu bilgilerin index'ini return edecek.\n",
    "        cv2.rectangle(image, (x,y), (x+w, y+h), (0,255,255),2)\n",
    "        cv2.putText(image,'Kedi {}'.format(i+1), (x,y-10), cv2.FONT_HERSHEY_SIMPLEX, 0.55, (0,255,255),2)\n",
    "        \n",
    "    # 'q' ya bastikca sonraki resme gecsin istiyorsak:\n",
    "    cv2.imshow(j,image)\n",
    "    if cv2.waitKey(0) & 0xFF == ord('q'): continue\n",
    "\n",
    "cv2.destroyAllWindows()"
   ]
  }
 ],
 "metadata": {
  "kernelspec": {
   "display_name": "Python 3 (ipykernel)",
   "language": "python",
   "name": "python3"
  },
  "language_info": {
   "codemirror_mode": {
    "name": "ipython",
    "version": 3
   },
   "file_extension": ".py",
   "mimetype": "text/x-python",
   "name": "python",
   "nbconvert_exporter": "python",
   "pygments_lexer": "ipython3",
   "version": "3.9.13"
  }
 },
 "nbformat": 4,
 "nbformat_minor": 5
}
