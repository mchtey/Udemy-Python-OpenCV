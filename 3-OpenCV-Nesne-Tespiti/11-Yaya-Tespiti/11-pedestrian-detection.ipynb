{
 "cells": [
  {
   "cell_type": "markdown",
   "id": "305165f4-14fe-48a2-bbfe-cf3e839c1a20",
   "metadata": {},
   "source": [
    "# <font color=orange>**OpenCV ile Nesne Tespiti**</font>"
   ]
  },
  {
   "cell_type": "markdown",
   "id": "30447337-794d-49dd-a85c-27986c21cb2d",
   "metadata": {},
   "source": [
    "## <font color=gold>**Yaya Tespiti**</font> <font color=gray>**(Pedestrian Detection)**</font>"
   ]
  },
  {
   "cell_type": "code",
   "execution_count": 1,
   "id": "945c4e58-1b5a-477c-954c-2b6864fdbe5b",
   "metadata": {},
   "outputs": [],
   "source": [
    "import cv2\n",
    "import os"
   ]
  },
  {
   "cell_type": "code",
   "execution_count": 2,
   "id": "c0a1398f-9860-41b5-bbf8-7acf0f29d31e",
   "metadata": {},
   "outputs": [
    {
     "name": "stdout",
     "output_type": "stream",
     "text": [
      "['img1.jpg', 'img2.jpg', 'img3.jpg']\n"
     ]
    }
   ],
   "source": [
    "files = os.listdir()\n",
    "img_path_list = []\n",
    "\n",
    "for f in files:\n",
    "    if f.endswith('.jpg'):\n",
    "        img_path_list.append(f)\n",
    "        \n",
    "print(img_path_list)"
   ]
  },
  {
   "cell_type": "code",
   "execution_count": 3,
   "id": "bf636b5c-75dd-416d-baaf-329bb72d4e72",
   "metadata": {},
   "outputs": [],
   "source": [
    "# Hog Tanimlayicisi:\n",
    "hog = cv2.HOGDescriptor()\n",
    "\n",
    "# Tanimlayiciya SVM ekleme:\n",
    "hog.setSVMDetector(cv2.HOGDescriptor_getDefaultPeopleDetector())"
   ]
  },
  {
   "cell_type": "code",
   "execution_count": 4,
   "id": "23e36dd7-9f2a-4ef1-ada9-d3b9e151953e",
   "metadata": {},
   "outputs": [
    {
     "name": "stdout",
     "output_type": "stream",
     "text": [
      "img1.jpg\n",
      "img2.jpg\n",
      "img3.jpg\n"
     ]
    }
   ],
   "source": [
    "for image_path in img_path_list:\n",
    "    print(image_path)\n",
    "    \n",
    "    image = cv2.imread(image_path)\n",
    "    (rects, weights) = hog.detectMultiScale(image, padding = (8,8), scale = 1.05)\n",
    "    \n",
    "    for (x,y,w,h) in rects:\n",
    "        cv2.rectangle(image, (x,y), (x+w, y+h), (0,255,0),2)\n",
    "    \n",
    "    \n",
    "    \n",
    "    cv2.imshow('Yaya:',image)\n",
    "    if cv2.waitKey(0) & 0xFF == ord('q'): continue\n",
    "\n",
    "cv2.destroyAllWindows()"
   ]
  }
 ],
 "metadata": {
  "kernelspec": {
   "display_name": "Python 3 (ipykernel)",
   "language": "python",
   "name": "python3"
  },
  "language_info": {
   "codemirror_mode": {
    "name": "ipython",
    "version": 3
   },
   "file_extension": ".py",
   "mimetype": "text/x-python",
   "name": "python",
   "nbconvert_exporter": "python",
   "pygments_lexer": "ipython3",
   "version": "3.9.13"
  }
 },
 "nbformat": 4,
 "nbformat_minor": 5
}
